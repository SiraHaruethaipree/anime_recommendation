{
  "nbformat": 4,
  "nbformat_minor": 0,
  "metadata": {
    "kernelspec": {
      "language": "python",
      "display_name": "Python 3",
      "name": "python3"
    },
    "language_info": {
      "name": "python",
      "version": "3.7.10",
      "mimetype": "text/x-python",
      "codemirror_mode": {
        "name": "ipython",
        "version": 3
      },
      "pygments_lexer": "ipython3",
      "nbconvert_exporter": "python",
      "file_extension": ".py"
    },
    "colab": {
      "name": "anime-recommendation-system-collaborative-fiter (1).ipynb",
      "provenance": [],
      "include_colab_link": true
    }
  },
  "cells": [
    {
      "cell_type": "markdown",
      "metadata": {
        "id": "view-in-github",
        "colab_type": "text"
      },
      "source": [
        "<a href=\"https://colab.research.google.com/github/sira4154/anime_recommendation/blob/main/anime_recommendation_system_collaborative_fiter_(1).ipynb\" target=\"_parent\"><img src=\"https://colab.research.google.com/assets/colab-badge.svg\" alt=\"Open In Colab\"/></a>"
      ]
    },
    {
      "cell_type": "markdown",
      "metadata": {
        "id": "3xiRIrIP_JIN"
      },
      "source": [
        "# Collaborative Filtering"
      ]
    },
    {
      "cell_type": "markdown",
      "metadata": {
        "id": "W4-QrQHh_JIQ"
      },
      "source": [
        "## Introduction"
      ]
    },
    {
      "cell_type": "markdown",
      "metadata": {
        "id": "uxPshpkJ_JIQ"
      },
      "source": [
        "Introduction Recommendation systems are a collection of algorithms used to recommend items to users based on information taken from the user. These systems have become ubiquitous can be commonly seen in online stores, movies databases and job finders. In this notebook, we will explore recommendation systems based on Collaborative Filtering and implement simple version of one using Python and the Pandas library.\n",
        "\n",
        "In this notebook was created for review recommendation system collaborative filltering that I lerned from IBM data science from coursera."
      ]
    },
    {
      "cell_type": "markdown",
      "metadata": {
        "id": "wMuvtd3t_JIR"
      },
      "source": [
        "## Data"
      ]
    },
    {
      "cell_type": "markdown",
      "metadata": {
        "id": "gV9stk2Z_JIR"
      },
      "source": [
        "In this notebook we will use the data from kaggle [Anime Recommendation Database 2020](https://https://www.kaggle.com/hernan4444/anime-recommendation-database-2020?select=anime.csv) that contain :\n",
        "- The anime list per user. Include dropped, complete, plan to watch, currently watching and on hold.\n",
        "- Ratings given by users to the animes that they has watched completely.\n",
        "- Information about the anime like genre, stats, studio, etc.\n",
        "- HTML with anime information to do data scrapping. These files contain information such as reviews, synopsis, information about the staff, anime statistics, genre, etc.\n",
        "\n",
        "This project we will use only 2 dataset anime.csv and rating_complete.csv for generate recommendation system model.\n"
      ]
    },
    {
      "cell_type": "markdown",
      "metadata": {
        "id": "vwnyRylJ_JIR"
      },
      "source": [
        "### Import Library"
      ]
    },
    {
      "cell_type": "code",
      "metadata": {
        "_uuid": "8f2839f25d086af736a60e9eeb907d3b93b6e0e5",
        "_cell_guid": "b1076dfc-b9ad-4769-8c92-a6c4dae69d19",
        "execution": {
          "iopub.status.busy": "2021-09-07T01:50:13.547007Z",
          "iopub.execute_input": "2021-09-07T01:50:13.548225Z",
          "iopub.status.idle": "2021-09-07T01:50:19.902761Z",
          "shell.execute_reply.started": "2021-09-07T01:50:13.548128Z",
          "shell.execute_reply": "2021-09-07T01:50:19.901733Z"
        },
        "trusted": true,
        "id": "tDszuJOs_JIR",
        "outputId": "e277f2d1-4b35-46d7-c37a-3bab03c4888e"
      },
      "source": [
        "#Dataframe manipulation library\n",
        "import sys\n",
        "import pandas as pd\n",
        "#Math functions, we'll only need the sqrt function so let's import only that\n",
        "from math import sqrt\n",
        "import numpy as np\n",
        "import seaborn as sns\n",
        "import matplotlib.pyplot as plt\n",
        "!pip install openpyxl"
      ],
      "execution_count": null,
      "outputs": [
        {
          "name": "stdout",
          "text": "Requirement already satisfied: openpyxl in /opt/conda/lib/python3.7/site-packages (3.0.7)\nRequirement already satisfied: et-xmlfile in /opt/conda/lib/python3.7/site-packages (from openpyxl) (1.1.0)\n\u001b[33mWARNING: Running pip as root will break packages and permissions. You should install packages reliably by using venv: https://pip.pypa.io/warnings/venv\u001b[0m\n",
          "output_type": "stream"
        }
      ]
    },
    {
      "cell_type": "markdown",
      "metadata": {
        "id": "veKUv_gn_JIT"
      },
      "source": [
        "### Data Preprocessing"
      ]
    },
    {
      "cell_type": "markdown",
      "metadata": {
        "id": "tnbr10sB_JIT"
      },
      "source": [
        "import animelist and rating dataset"
      ]
    },
    {
      "cell_type": "code",
      "metadata": {
        "execution": {
          "iopub.status.busy": "2021-09-07T01:50:19.905017Z",
          "iopub.execute_input": "2021-09-07T01:50:19.905496Z",
          "iopub.status.idle": "2021-09-07T01:50:30.845247Z",
          "shell.execute_reply.started": "2021-09-07T01:50:19.905445Z",
          "shell.execute_reply": "2021-09-07T01:50:30.844342Z"
        },
        "trusted": true,
        "id": "tlMP361W_JIU"
      },
      "source": [
        "animecsv = pd.read_csv(\"../input/anime-recommendation-database-2020/anime.csv\")\n",
        "ratingcsv = pd.read_csv(\"../input/anime-recommendation-database-2020/rating_complete.csv\")"
      ],
      "execution_count": null,
      "outputs": []
    },
    {
      "cell_type": "code",
      "metadata": {
        "execution": {
          "iopub.status.busy": "2021-09-07T01:50:30.846960Z",
          "iopub.execute_input": "2021-09-07T01:50:30.847288Z",
          "iopub.status.idle": "2021-09-07T01:50:30.853929Z",
          "shell.execute_reply.started": "2021-09-07T01:50:30.847254Z",
          "shell.execute_reply": "2021-09-07T01:50:30.852895Z"
        },
        "trusted": true,
        "id": "51fny6JV_JIU",
        "outputId": "320b2473-3e31-44e1-ab1f-bf00a7a72499"
      },
      "source": [
        "animecsv.shape"
      ],
      "execution_count": null,
      "outputs": [
        {
          "execution_count": 85,
          "output_type": "execute_result",
          "data": {
            "text/plain": "(17562, 35)"
          },
          "metadata": {}
        }
      ]
    },
    {
      "cell_type": "markdown",
      "metadata": {
        "id": "Zp-HFNtF_JIU"
      },
      "source": [
        "Show the data from animeCSV"
      ]
    },
    {
      "cell_type": "code",
      "metadata": {
        "execution": {
          "iopub.status.busy": "2021-09-07T01:50:30.855484Z",
          "iopub.execute_input": "2021-09-07T01:50:30.855776Z",
          "iopub.status.idle": "2021-09-07T01:50:30.887846Z",
          "shell.execute_reply.started": "2021-09-07T01:50:30.855748Z",
          "shell.execute_reply": "2021-09-07T01:50:30.886872Z"
        },
        "trusted": true,
        "id": "CIw8SPwS_JIU",
        "outputId": "47ff4e4c-39e0-4ad4-8d6b-232930bd6514"
      },
      "source": [
        "animecsv.head()"
      ],
      "execution_count": null,
      "outputs": [
        {
          "execution_count": 86,
          "output_type": "execute_result",
          "data": {
            "text/plain": "   MAL_ID                             Name Score  \\\n0       1                     Cowboy Bebop  8.78   \n1       5  Cowboy Bebop: Tengoku no Tobira  8.39   \n2       6                           Trigun  8.24   \n3       7               Witch Hunter Robin  7.27   \n4       8                   Bouken Ou Beet  6.98   \n\n                                              Genres            English name  \\\n0    Action, Adventure, Comedy, Drama, Sci-Fi, Space            Cowboy Bebop   \n1              Action, Drama, Mystery, Sci-Fi, Space  Cowboy Bebop:The Movie   \n2  Action, Sci-Fi, Adventure, Comedy, Drama, Shounen                  Trigun   \n3  Action, Mystery, Police, Supernatural, Drama, ...      Witch Hunter Robin   \n4          Adventure, Fantasy, Shounen, Supernatural  Beet the Vandel Buster   \n\n                      Japanese name   Type Episodes  \\\n0                         カウボーイビバップ     TV       26   \n1                    カウボーイビバップ 天国の扉  Movie        1   \n2                             トライガン     TV       26   \n3  Witch Hunter ROBIN (ウイッチハンターロビン)     TV       26   \n4                            冒険王ビィト     TV       52   \n\n                          Aired    Premiered  ...  Score-10   Score-9  \\\n0   Apr 3, 1998 to Apr 24, 1999  Spring 1998  ...  229170.0  182126.0   \n1                   Sep 1, 2001      Unknown  ...   30043.0   49201.0   \n2   Apr 1, 1998 to Sep 30, 1998  Spring 1998  ...   50229.0   75651.0   \n3   Jul 2, 2002 to Dec 24, 2002  Summer 2002  ...    2182.0    4806.0   \n4  Sep 30, 2004 to Sep 29, 2005    Fall 2004  ...     312.0     529.0   \n\n    Score-8  Score-7  Score-6 Score-5 Score-4  Score-3  Score-2  Score-1  \n0  131625.0  62330.0  20688.0  8904.0  3184.0   1357.0    741.0   1580.0  \n1   49505.0  22632.0   5805.0  1877.0   577.0    221.0    109.0    379.0  \n2   86142.0  49432.0  15376.0  5838.0  1965.0    664.0    316.0    533.0  \n3   10128.0  11618.0   5709.0  2920.0  1083.0    353.0    164.0    131.0  \n4    1242.0   1713.0   1068.0   634.0   265.0     83.0     50.0     27.0  \n\n[5 rows x 35 columns]",
            "text/html": "<div>\n<style scoped>\n    .dataframe tbody tr th:only-of-type {\n        vertical-align: middle;\n    }\n\n    .dataframe tbody tr th {\n        vertical-align: top;\n    }\n\n    .dataframe thead th {\n        text-align: right;\n    }\n</style>\n<table border=\"1\" class=\"dataframe\">\n  <thead>\n    <tr style=\"text-align: right;\">\n      <th></th>\n      <th>MAL_ID</th>\n      <th>Name</th>\n      <th>Score</th>\n      <th>Genres</th>\n      <th>English name</th>\n      <th>Japanese name</th>\n      <th>Type</th>\n      <th>Episodes</th>\n      <th>Aired</th>\n      <th>Premiered</th>\n      <th>...</th>\n      <th>Score-10</th>\n      <th>Score-9</th>\n      <th>Score-8</th>\n      <th>Score-7</th>\n      <th>Score-6</th>\n      <th>Score-5</th>\n      <th>Score-4</th>\n      <th>Score-3</th>\n      <th>Score-2</th>\n      <th>Score-1</th>\n    </tr>\n  </thead>\n  <tbody>\n    <tr>\n      <th>0</th>\n      <td>1</td>\n      <td>Cowboy Bebop</td>\n      <td>8.78</td>\n      <td>Action, Adventure, Comedy, Drama, Sci-Fi, Space</td>\n      <td>Cowboy Bebop</td>\n      <td>カウボーイビバップ</td>\n      <td>TV</td>\n      <td>26</td>\n      <td>Apr 3, 1998 to Apr 24, 1999</td>\n      <td>Spring 1998</td>\n      <td>...</td>\n      <td>229170.0</td>\n      <td>182126.0</td>\n      <td>131625.0</td>\n      <td>62330.0</td>\n      <td>20688.0</td>\n      <td>8904.0</td>\n      <td>3184.0</td>\n      <td>1357.0</td>\n      <td>741.0</td>\n      <td>1580.0</td>\n    </tr>\n    <tr>\n      <th>1</th>\n      <td>5</td>\n      <td>Cowboy Bebop: Tengoku no Tobira</td>\n      <td>8.39</td>\n      <td>Action, Drama, Mystery, Sci-Fi, Space</td>\n      <td>Cowboy Bebop:The Movie</td>\n      <td>カウボーイビバップ 天国の扉</td>\n      <td>Movie</td>\n      <td>1</td>\n      <td>Sep 1, 2001</td>\n      <td>Unknown</td>\n      <td>...</td>\n      <td>30043.0</td>\n      <td>49201.0</td>\n      <td>49505.0</td>\n      <td>22632.0</td>\n      <td>5805.0</td>\n      <td>1877.0</td>\n      <td>577.0</td>\n      <td>221.0</td>\n      <td>109.0</td>\n      <td>379.0</td>\n    </tr>\n    <tr>\n      <th>2</th>\n      <td>6</td>\n      <td>Trigun</td>\n      <td>8.24</td>\n      <td>Action, Sci-Fi, Adventure, Comedy, Drama, Shounen</td>\n      <td>Trigun</td>\n      <td>トライガン</td>\n      <td>TV</td>\n      <td>26</td>\n      <td>Apr 1, 1998 to Sep 30, 1998</td>\n      <td>Spring 1998</td>\n      <td>...</td>\n      <td>50229.0</td>\n      <td>75651.0</td>\n      <td>86142.0</td>\n      <td>49432.0</td>\n      <td>15376.0</td>\n      <td>5838.0</td>\n      <td>1965.0</td>\n      <td>664.0</td>\n      <td>316.0</td>\n      <td>533.0</td>\n    </tr>\n    <tr>\n      <th>3</th>\n      <td>7</td>\n      <td>Witch Hunter Robin</td>\n      <td>7.27</td>\n      <td>Action, Mystery, Police, Supernatural, Drama, ...</td>\n      <td>Witch Hunter Robin</td>\n      <td>Witch Hunter ROBIN (ウイッチハンターロビン)</td>\n      <td>TV</td>\n      <td>26</td>\n      <td>Jul 2, 2002 to Dec 24, 2002</td>\n      <td>Summer 2002</td>\n      <td>...</td>\n      <td>2182.0</td>\n      <td>4806.0</td>\n      <td>10128.0</td>\n      <td>11618.0</td>\n      <td>5709.0</td>\n      <td>2920.0</td>\n      <td>1083.0</td>\n      <td>353.0</td>\n      <td>164.0</td>\n      <td>131.0</td>\n    </tr>\n    <tr>\n      <th>4</th>\n      <td>8</td>\n      <td>Bouken Ou Beet</td>\n      <td>6.98</td>\n      <td>Adventure, Fantasy, Shounen, Supernatural</td>\n      <td>Beet the Vandel Buster</td>\n      <td>冒険王ビィト</td>\n      <td>TV</td>\n      <td>52</td>\n      <td>Sep 30, 2004 to Sep 29, 2005</td>\n      <td>Fall 2004</td>\n      <td>...</td>\n      <td>312.0</td>\n      <td>529.0</td>\n      <td>1242.0</td>\n      <td>1713.0</td>\n      <td>1068.0</td>\n      <td>634.0</td>\n      <td>265.0</td>\n      <td>83.0</td>\n      <td>50.0</td>\n      <td>27.0</td>\n    </tr>\n  </tbody>\n</table>\n<p>5 rows × 35 columns</p>\n</div>"
          },
          "metadata": {}
        }
      ]
    },
    {
      "cell_type": "markdown",
      "metadata": {
        "id": "wAoHUMgH_JIV"
      },
      "source": [
        "Due to there are many data in anime dataset so we need to fillter the data for make it faster to compute this coding."
      ]
    },
    {
      "cell_type": "code",
      "metadata": {
        "execution": {
          "iopub.status.busy": "2021-09-07T01:50:30.889080Z",
          "iopub.execute_input": "2021-09-07T01:50:30.889355Z",
          "iopub.status.idle": "2021-09-07T01:50:30.931877Z",
          "shell.execute_reply.started": "2021-09-07T01:50:30.889329Z",
          "shell.execute_reply": "2021-09-07T01:50:30.930868Z"
        },
        "trusted": true,
        "id": "BKjYMGic_JIV",
        "outputId": "4dbee6c6-4733-4e76-e182-fd69958988cc"
      },
      "source": [
        "#Remove Unknown in score column and select only tv type \n",
        "anime_movie = animecsv[(animecsv[\"Score\"] != \"Unknown\") & (animecsv[\"Type\"] == \"TV\") ] \n",
        "anime_movie = anime_movie[anime_movie[\"Popularity\"] <= 5000]\n",
        "anime_movie.head()"
      ],
      "execution_count": null,
      "outputs": [
        {
          "execution_count": 87,
          "output_type": "execute_result",
          "data": {
            "text/plain": "   MAL_ID                Name Score  \\\n0       1        Cowboy Bebop  8.78   \n2       6              Trigun  8.24   \n3       7  Witch Hunter Robin  7.27   \n4       8      Bouken Ou Beet  6.98   \n5      15        Eyeshield 21  7.95   \n\n                                              Genres            English name  \\\n0    Action, Adventure, Comedy, Drama, Sci-Fi, Space            Cowboy Bebop   \n2  Action, Sci-Fi, Adventure, Comedy, Drama, Shounen                  Trigun   \n3  Action, Mystery, Police, Supernatural, Drama, ...      Witch Hunter Robin   \n4          Adventure, Fantasy, Shounen, Supernatural  Beet the Vandel Buster   \n5                    Action, Sports, Comedy, Shounen                 Unknown   \n\n                      Japanese name Type Episodes  \\\n0                         カウボーイビバップ   TV       26   \n2                             トライガン   TV       26   \n3  Witch Hunter ROBIN (ウイッチハンターロビン)   TV       26   \n4                            冒険王ビィト   TV       52   \n5                          アイシールド21   TV      145   \n\n                          Aired    Premiered  ...  Score-10   Score-9  \\\n0   Apr 3, 1998 to Apr 24, 1999  Spring 1998  ...  229170.0  182126.0   \n2   Apr 1, 1998 to Sep 30, 1998  Spring 1998  ...   50229.0   75651.0   \n3   Jul 2, 2002 to Dec 24, 2002  Summer 2002  ...    2182.0    4806.0   \n4  Sep 30, 2004 to Sep 29, 2005    Fall 2004  ...     312.0     529.0   \n5   Apr 6, 2005 to Mar 19, 2008  Spring 2005  ...    9226.0   14904.0   \n\n    Score-8  Score-7  Score-6 Score-5 Score-4  Score-3  Score-2  Score-1  \n0  131625.0  62330.0  20688.0  8904.0  3184.0   1357.0    741.0   1580.0  \n2   86142.0  49432.0  15376.0  5838.0  1965.0    664.0    316.0    533.0  \n3   10128.0  11618.0   5709.0  2920.0  1083.0    353.0    164.0    131.0  \n4    1242.0   1713.0   1068.0   634.0   265.0     83.0     50.0     27.0  \n5   22811.0  16734.0   6206.0  2621.0   795.0    336.0    140.0    151.0  \n\n[5 rows x 35 columns]",
            "text/html": "<div>\n<style scoped>\n    .dataframe tbody tr th:only-of-type {\n        vertical-align: middle;\n    }\n\n    .dataframe tbody tr th {\n        vertical-align: top;\n    }\n\n    .dataframe thead th {\n        text-align: right;\n    }\n</style>\n<table border=\"1\" class=\"dataframe\">\n  <thead>\n    <tr style=\"text-align: right;\">\n      <th></th>\n      <th>MAL_ID</th>\n      <th>Name</th>\n      <th>Score</th>\n      <th>Genres</th>\n      <th>English name</th>\n      <th>Japanese name</th>\n      <th>Type</th>\n      <th>Episodes</th>\n      <th>Aired</th>\n      <th>Premiered</th>\n      <th>...</th>\n      <th>Score-10</th>\n      <th>Score-9</th>\n      <th>Score-8</th>\n      <th>Score-7</th>\n      <th>Score-6</th>\n      <th>Score-5</th>\n      <th>Score-4</th>\n      <th>Score-3</th>\n      <th>Score-2</th>\n      <th>Score-1</th>\n    </tr>\n  </thead>\n  <tbody>\n    <tr>\n      <th>0</th>\n      <td>1</td>\n      <td>Cowboy Bebop</td>\n      <td>8.78</td>\n      <td>Action, Adventure, Comedy, Drama, Sci-Fi, Space</td>\n      <td>Cowboy Bebop</td>\n      <td>カウボーイビバップ</td>\n      <td>TV</td>\n      <td>26</td>\n      <td>Apr 3, 1998 to Apr 24, 1999</td>\n      <td>Spring 1998</td>\n      <td>...</td>\n      <td>229170.0</td>\n      <td>182126.0</td>\n      <td>131625.0</td>\n      <td>62330.0</td>\n      <td>20688.0</td>\n      <td>8904.0</td>\n      <td>3184.0</td>\n      <td>1357.0</td>\n      <td>741.0</td>\n      <td>1580.0</td>\n    </tr>\n    <tr>\n      <th>2</th>\n      <td>6</td>\n      <td>Trigun</td>\n      <td>8.24</td>\n      <td>Action, Sci-Fi, Adventure, Comedy, Drama, Shounen</td>\n      <td>Trigun</td>\n      <td>トライガン</td>\n      <td>TV</td>\n      <td>26</td>\n      <td>Apr 1, 1998 to Sep 30, 1998</td>\n      <td>Spring 1998</td>\n      <td>...</td>\n      <td>50229.0</td>\n      <td>75651.0</td>\n      <td>86142.0</td>\n      <td>49432.0</td>\n      <td>15376.0</td>\n      <td>5838.0</td>\n      <td>1965.0</td>\n      <td>664.0</td>\n      <td>316.0</td>\n      <td>533.0</td>\n    </tr>\n    <tr>\n      <th>3</th>\n      <td>7</td>\n      <td>Witch Hunter Robin</td>\n      <td>7.27</td>\n      <td>Action, Mystery, Police, Supernatural, Drama, ...</td>\n      <td>Witch Hunter Robin</td>\n      <td>Witch Hunter ROBIN (ウイッチハンターロビン)</td>\n      <td>TV</td>\n      <td>26</td>\n      <td>Jul 2, 2002 to Dec 24, 2002</td>\n      <td>Summer 2002</td>\n      <td>...</td>\n      <td>2182.0</td>\n      <td>4806.0</td>\n      <td>10128.0</td>\n      <td>11618.0</td>\n      <td>5709.0</td>\n      <td>2920.0</td>\n      <td>1083.0</td>\n      <td>353.0</td>\n      <td>164.0</td>\n      <td>131.0</td>\n    </tr>\n    <tr>\n      <th>4</th>\n      <td>8</td>\n      <td>Bouken Ou Beet</td>\n      <td>6.98</td>\n      <td>Adventure, Fantasy, Shounen, Supernatural</td>\n      <td>Beet the Vandel Buster</td>\n      <td>冒険王ビィト</td>\n      <td>TV</td>\n      <td>52</td>\n      <td>Sep 30, 2004 to Sep 29, 2005</td>\n      <td>Fall 2004</td>\n      <td>...</td>\n      <td>312.0</td>\n      <td>529.0</td>\n      <td>1242.0</td>\n      <td>1713.0</td>\n      <td>1068.0</td>\n      <td>634.0</td>\n      <td>265.0</td>\n      <td>83.0</td>\n      <td>50.0</td>\n      <td>27.0</td>\n    </tr>\n    <tr>\n      <th>5</th>\n      <td>15</td>\n      <td>Eyeshield 21</td>\n      <td>7.95</td>\n      <td>Action, Sports, Comedy, Shounen</td>\n      <td>Unknown</td>\n      <td>アイシールド21</td>\n      <td>TV</td>\n      <td>145</td>\n      <td>Apr 6, 2005 to Mar 19, 2008</td>\n      <td>Spring 2005</td>\n      <td>...</td>\n      <td>9226.0</td>\n      <td>14904.0</td>\n      <td>22811.0</td>\n      <td>16734.0</td>\n      <td>6206.0</td>\n      <td>2621.0</td>\n      <td>795.0</td>\n      <td>336.0</td>\n      <td>140.0</td>\n      <td>151.0</td>\n    </tr>\n  </tbody>\n</table>\n<p>5 rows × 35 columns</p>\n</div>"
          },
          "metadata": {}
        }
      ]
    },
    {
      "cell_type": "code",
      "metadata": {
        "execution": {
          "iopub.status.busy": "2021-09-07T01:50:30.933119Z",
          "iopub.execute_input": "2021-09-07T01:50:30.933454Z",
          "iopub.status.idle": "2021-09-07T01:50:30.938865Z",
          "shell.execute_reply.started": "2021-09-07T01:50:30.933423Z",
          "shell.execute_reply": "2021-09-07T01:50:30.938266Z"
        },
        "trusted": true,
        "id": "AuvGv6Xl_JIV",
        "outputId": "c520ecfc-0dd6-4bc0-cb4b-14816aa3f29f"
      },
      "source": [
        "anime_movie.columns"
      ],
      "execution_count": null,
      "outputs": [
        {
          "execution_count": 88,
          "output_type": "execute_result",
          "data": {
            "text/plain": "Index(['MAL_ID', 'Name', 'Score', 'Genres', 'English name', 'Japanese name',\n       'Type', 'Episodes', 'Aired', 'Premiered', 'Producers', 'Licensors',\n       'Studios', 'Source', 'Duration', 'Rating', 'Ranked', 'Popularity',\n       'Members', 'Favorites', 'Watching', 'Completed', 'On-Hold', 'Dropped',\n       'Plan to Watch', 'Score-10', 'Score-9', 'Score-8', 'Score-7', 'Score-6',\n       'Score-5', 'Score-4', 'Score-3', 'Score-2', 'Score-1'],\n      dtype='object')"
          },
          "metadata": {}
        }
      ]
    },
    {
      "cell_type": "code",
      "metadata": {
        "execution": {
          "iopub.status.busy": "2021-09-07T01:50:30.939751Z",
          "iopub.execute_input": "2021-09-07T01:50:30.940111Z",
          "iopub.status.idle": "2021-09-07T01:50:30.955847Z",
          "shell.execute_reply.started": "2021-09-07T01:50:30.940083Z",
          "shell.execute_reply": "2021-09-07T01:50:30.954775Z"
        },
        "trusted": true,
        "id": "-0eu5jF6_JIV",
        "outputId": "27f72389-124d-4b89-a9be-5ffb50075ae5"
      },
      "source": [
        "anime_movie.shape"
      ],
      "execution_count": null,
      "outputs": [
        {
          "execution_count": 89,
          "output_type": "execute_result",
          "data": {
            "text/plain": "(2530, 35)"
          },
          "metadata": {}
        }
      ]
    },
    {
      "cell_type": "code",
      "metadata": {
        "execution": {
          "iopub.status.busy": "2021-09-07T01:50:30.959047Z",
          "iopub.execute_input": "2021-09-07T01:50:30.959398Z",
          "iopub.status.idle": "2021-09-07T01:50:30.982708Z",
          "shell.execute_reply.started": "2021-09-07T01:50:30.959364Z",
          "shell.execute_reply": "2021-09-07T01:50:30.981546Z"
        },
        "trusted": true,
        "id": "zvunk-e0_JIV",
        "outputId": "dd200fc6-5a8a-4c11-e7c7-7b950a949045"
      },
      "source": [
        "anime_movie_fillter = anime_movie[[\"MAL_ID\",\"Name\",\"Premiered\",\"Popularity\"]]\n",
        "anime_movie_fillter.head()"
      ],
      "execution_count": null,
      "outputs": [
        {
          "execution_count": 90,
          "output_type": "execute_result",
          "data": {
            "text/plain": "   MAL_ID                Name    Premiered  Popularity\n0       1        Cowboy Bebop  Spring 1998          39\n2       6              Trigun  Spring 1998         201\n3       7  Witch Hunter Robin  Summer 2002        1467\n4       8      Bouken Ou Beet    Fall 2004        4369\n5      15        Eyeshield 21  Spring 2005        1003",
            "text/html": "<div>\n<style scoped>\n    .dataframe tbody tr th:only-of-type {\n        vertical-align: middle;\n    }\n\n    .dataframe tbody tr th {\n        vertical-align: top;\n    }\n\n    .dataframe thead th {\n        text-align: right;\n    }\n</style>\n<table border=\"1\" class=\"dataframe\">\n  <thead>\n    <tr style=\"text-align: right;\">\n      <th></th>\n      <th>MAL_ID</th>\n      <th>Name</th>\n      <th>Premiered</th>\n      <th>Popularity</th>\n    </tr>\n  </thead>\n  <tbody>\n    <tr>\n      <th>0</th>\n      <td>1</td>\n      <td>Cowboy Bebop</td>\n      <td>Spring 1998</td>\n      <td>39</td>\n    </tr>\n    <tr>\n      <th>2</th>\n      <td>6</td>\n      <td>Trigun</td>\n      <td>Spring 1998</td>\n      <td>201</td>\n    </tr>\n    <tr>\n      <th>3</th>\n      <td>7</td>\n      <td>Witch Hunter Robin</td>\n      <td>Summer 2002</td>\n      <td>1467</td>\n    </tr>\n    <tr>\n      <th>4</th>\n      <td>8</td>\n      <td>Bouken Ou Beet</td>\n      <td>Fall 2004</td>\n      <td>4369</td>\n    </tr>\n    <tr>\n      <th>5</th>\n      <td>15</td>\n      <td>Eyeshield 21</td>\n      <td>Spring 2005</td>\n      <td>1003</td>\n    </tr>\n  </tbody>\n</table>\n</div>"
          },
          "metadata": {}
        }
      ]
    },
    {
      "cell_type": "code",
      "metadata": {
        "execution": {
          "iopub.status.busy": "2021-09-07T01:50:30.984953Z",
          "iopub.execute_input": "2021-09-07T01:50:30.985339Z",
          "iopub.status.idle": "2021-09-07T01:50:30.999307Z",
          "shell.execute_reply.started": "2021-09-07T01:50:30.985306Z",
          "shell.execute_reply": "2021-09-07T01:50:30.998341Z"
        },
        "trusted": true,
        "id": "I8KQc_kn_JIW",
        "outputId": "753d73a7-a67f-4b0e-f1ba-9a2076cc9554"
      },
      "source": [
        "anime_movie_fillter['year'] = anime_movie_fillter.Premiered.str.extract('(\\(\\d\\d\\d\\d\\))',expand=False)\n",
        "#Removing the parentheses\n",
        "anime_movie_fillter['year'] = anime_movie_fillter.Premiered.str.extract('(\\d\\d\\d\\d)',expand=False)"
      ],
      "execution_count": null,
      "outputs": [
        {
          "name": "stderr",
          "text": "/opt/conda/lib/python3.7/site-packages/ipykernel_launcher.py:1: SettingWithCopyWarning: \nA value is trying to be set on a copy of a slice from a DataFrame.\nTry using .loc[row_indexer,col_indexer] = value instead\n\nSee the caveats in the documentation: https://pandas.pydata.org/pandas-docs/stable/user_guide/indexing.html#returning-a-view-versus-a-copy\n  \"\"\"Entry point for launching an IPython kernel.\n/opt/conda/lib/python3.7/site-packages/ipykernel_launcher.py:3: SettingWithCopyWarning: \nA value is trying to be set on a copy of a slice from a DataFrame.\nTry using .loc[row_indexer,col_indexer] = value instead\n\nSee the caveats in the documentation: https://pandas.pydata.org/pandas-docs/stable/user_guide/indexing.html#returning-a-view-versus-a-copy\n  This is separate from the ipykernel package so we can avoid doing imports until\n",
          "output_type": "stream"
        }
      ]
    },
    {
      "cell_type": "code",
      "metadata": {
        "execution": {
          "iopub.status.busy": "2021-09-07T01:50:31.001160Z",
          "iopub.execute_input": "2021-09-07T01:50:31.001644Z",
          "iopub.status.idle": "2021-09-07T01:50:31.011327Z",
          "shell.execute_reply.started": "2021-09-07T01:50:31.001600Z",
          "shell.execute_reply": "2021-09-07T01:50:31.010439Z"
        },
        "trusted": true,
        "id": "6RZx4fmb_JIW"
      },
      "source": [
        "anime_movie_fillter = anime_movie_fillter.rename(columns={'MAL_ID': 'anime_id'})"
      ],
      "execution_count": null,
      "outputs": []
    },
    {
      "cell_type": "code",
      "metadata": {
        "execution": {
          "iopub.status.busy": "2021-09-07T01:50:31.014079Z",
          "iopub.execute_input": "2021-09-07T01:50:31.014697Z",
          "iopub.status.idle": "2021-09-07T01:50:31.029072Z",
          "shell.execute_reply.started": "2021-09-07T01:50:31.014508Z",
          "shell.execute_reply": "2021-09-07T01:50:31.028172Z"
        },
        "trusted": true,
        "id": "f6byEbRQ_JIW",
        "outputId": "b7fb8d7b-be00-4cff-9d15-43fc18f599a0"
      },
      "source": [
        "anime_movie_fillter.head()"
      ],
      "execution_count": null,
      "outputs": [
        {
          "execution_count": 93,
          "output_type": "execute_result",
          "data": {
            "text/plain": "   anime_id                Name    Premiered  Popularity  year\n0         1        Cowboy Bebop  Spring 1998          39  1998\n2         6              Trigun  Spring 1998         201  1998\n3         7  Witch Hunter Robin  Summer 2002        1467  2002\n4         8      Bouken Ou Beet    Fall 2004        4369  2004\n5        15        Eyeshield 21  Spring 2005        1003  2005",
            "text/html": "<div>\n<style scoped>\n    .dataframe tbody tr th:only-of-type {\n        vertical-align: middle;\n    }\n\n    .dataframe tbody tr th {\n        vertical-align: top;\n    }\n\n    .dataframe thead th {\n        text-align: right;\n    }\n</style>\n<table border=\"1\" class=\"dataframe\">\n  <thead>\n    <tr style=\"text-align: right;\">\n      <th></th>\n      <th>anime_id</th>\n      <th>Name</th>\n      <th>Premiered</th>\n      <th>Popularity</th>\n      <th>year</th>\n    </tr>\n  </thead>\n  <tbody>\n    <tr>\n      <th>0</th>\n      <td>1</td>\n      <td>Cowboy Bebop</td>\n      <td>Spring 1998</td>\n      <td>39</td>\n      <td>1998</td>\n    </tr>\n    <tr>\n      <th>2</th>\n      <td>6</td>\n      <td>Trigun</td>\n      <td>Spring 1998</td>\n      <td>201</td>\n      <td>1998</td>\n    </tr>\n    <tr>\n      <th>3</th>\n      <td>7</td>\n      <td>Witch Hunter Robin</td>\n      <td>Summer 2002</td>\n      <td>1467</td>\n      <td>2002</td>\n    </tr>\n    <tr>\n      <th>4</th>\n      <td>8</td>\n      <td>Bouken Ou Beet</td>\n      <td>Fall 2004</td>\n      <td>4369</td>\n      <td>2004</td>\n    </tr>\n    <tr>\n      <th>5</th>\n      <td>15</td>\n      <td>Eyeshield 21</td>\n      <td>Spring 2005</td>\n      <td>1003</td>\n      <td>2005</td>\n    </tr>\n  </tbody>\n</table>\n</div>"
          },
          "metadata": {}
        }
      ]
    },
    {
      "cell_type": "code",
      "metadata": {
        "execution": {
          "iopub.status.busy": "2021-09-07T01:50:31.030463Z",
          "iopub.execute_input": "2021-09-07T01:50:31.031054Z",
          "iopub.status.idle": "2021-09-07T01:50:31.048242Z",
          "shell.execute_reply.started": "2021-09-07T01:50:31.030900Z",
          "shell.execute_reply": "2021-09-07T01:50:31.047503Z"
        },
        "trusted": true,
        "id": "3kn09xOC_JIW",
        "outputId": "986dddee-7646-43a0-a91a-c095a7c4c7b4"
      },
      "source": [
        "anime_movie_fillter.describe()"
      ],
      "execution_count": null,
      "outputs": [
        {
          "execution_count": 94,
          "output_type": "execute_result",
          "data": {
            "text/plain": "           anime_id   Popularity\ncount   2530.000000  2530.000000\nmean   17985.097233  1969.071937\nstd    15036.199196  1409.100569\nmin        1.000000     1.000000\n25%     2052.000000   742.250000\n50%    15470.000000  1686.500000\n75%    33388.250000  3077.000000\nmax    46118.000000  5000.000000",
            "text/html": "<div>\n<style scoped>\n    .dataframe tbody tr th:only-of-type {\n        vertical-align: middle;\n    }\n\n    .dataframe tbody tr th {\n        vertical-align: top;\n    }\n\n    .dataframe thead th {\n        text-align: right;\n    }\n</style>\n<table border=\"1\" class=\"dataframe\">\n  <thead>\n    <tr style=\"text-align: right;\">\n      <th></th>\n      <th>anime_id</th>\n      <th>Popularity</th>\n    </tr>\n  </thead>\n  <tbody>\n    <tr>\n      <th>count</th>\n      <td>2530.000000</td>\n      <td>2530.000000</td>\n    </tr>\n    <tr>\n      <th>mean</th>\n      <td>17985.097233</td>\n      <td>1969.071937</td>\n    </tr>\n    <tr>\n      <th>std</th>\n      <td>15036.199196</td>\n      <td>1409.100569</td>\n    </tr>\n    <tr>\n      <th>min</th>\n      <td>1.000000</td>\n      <td>1.000000</td>\n    </tr>\n    <tr>\n      <th>25%</th>\n      <td>2052.000000</td>\n      <td>742.250000</td>\n    </tr>\n    <tr>\n      <th>50%</th>\n      <td>15470.000000</td>\n      <td>1686.500000</td>\n    </tr>\n    <tr>\n      <th>75%</th>\n      <td>33388.250000</td>\n      <td>3077.000000</td>\n    </tr>\n    <tr>\n      <th>max</th>\n      <td>46118.000000</td>\n      <td>5000.000000</td>\n    </tr>\n  </tbody>\n</table>\n</div>"
          },
          "metadata": {}
        }
      ]
    },
    {
      "cell_type": "code",
      "metadata": {
        "execution": {
          "iopub.status.busy": "2021-09-07T01:50:31.049282Z",
          "iopub.execute_input": "2021-09-07T01:50:31.049665Z",
          "iopub.status.idle": "2021-09-07T01:50:31.251104Z",
          "shell.execute_reply.started": "2021-09-07T01:50:31.049636Z",
          "shell.execute_reply": "2021-09-07T01:50:31.250401Z"
        },
        "trusted": true,
        "id": "26BEtu6j_JIX",
        "outputId": "333f664b-9cfd-4711-a962-3e6222faac9d"
      },
      "source": [
        "# Compute number of data points: n_data\n",
        "n_data = len(anime_movie_fillter[\"Popularity\"])\n",
        "\n",
        "# Number of bins is the square root of number of data points: n_bins\n",
        "n_bins =  np.sqrt(n_data)\n",
        "\n",
        "# Convert number of bins to integer: n_bins\n",
        "n_bins = int(n_bins)\n",
        "\n",
        "# Plot the histogram\n",
        "plt.hist(anime_movie_fillter[\"Popularity\"],bins = n_bins)\n",
        "\n",
        "# Label axes\n",
        "_ = plt.xlabel('Popularity')\n",
        "_ = plt.ylabel('count')\n",
        "\n",
        "# Show histogram\n",
        "plt.show()"
      ],
      "execution_count": null,
      "outputs": [
        {
          "output_type": "display_data",
          "data": {
            "text/plain": "<Figure size 432x288 with 1 Axes>",
            "image/png": "[encoded data removed]"
          },
          "metadata": {
            "needs_background": "light"
          }
        }
      ]
    },
    {
      "cell_type": "code",
      "metadata": {
        "execution": {
          "iopub.status.busy": "2021-09-07T01:50:31.252098Z",
          "iopub.execute_input": "2021-09-07T01:50:31.252492Z",
          "iopub.status.idle": "2021-09-07T01:50:31.255162Z",
          "shell.execute_reply.started": "2021-09-07T01:50:31.252462Z",
          "shell.execute_reply": "2021-09-07T01:50:31.254574Z"
        },
        "trusted": true,
        "id": "PlpoYo23_JIX"
      },
      "source": [
        "#anime_movie_fillter = anime_movie_fillter[anime_movie_fillter[\"Popularity\"] <= 5000]"
      ],
      "execution_count": null,
      "outputs": []
    },
    {
      "cell_type": "code",
      "metadata": {
        "execution": {
          "iopub.status.busy": "2021-09-07T01:50:31.256065Z",
          "iopub.execute_input": "2021-09-07T01:50:31.256448Z",
          "iopub.status.idle": "2021-09-07T01:50:31.269388Z",
          "shell.execute_reply.started": "2021-09-07T01:50:31.256419Z",
          "shell.execute_reply": "2021-09-07T01:50:31.268336Z"
        },
        "trusted": true,
        "id": "yIeymwfB_JIX",
        "outputId": "8a73c252-e358-467a-d624-7ea434310070"
      },
      "source": [
        "anime_movie_fillter.shape"
      ],
      "execution_count": null,
      "outputs": [
        {
          "execution_count": 97,
          "output_type": "execute_result",
          "data": {
            "text/plain": "(2530, 5)"
          },
          "metadata": {}
        }
      ]
    },
    {
      "cell_type": "markdown",
      "metadata": {
        "id": "XWFA77PW_JIX"
      },
      "source": [
        "# RatingCSV "
      ]
    },
    {
      "cell_type": "code",
      "metadata": {
        "execution": {
          "iopub.status.busy": "2021-09-07T01:50:31.270322Z",
          "iopub.execute_input": "2021-09-07T01:50:31.270576Z",
          "iopub.status.idle": "2021-09-07T01:50:31.286588Z",
          "shell.execute_reply.started": "2021-09-07T01:50:31.270552Z",
          "shell.execute_reply": "2021-09-07T01:50:31.285325Z"
        },
        "trusted": true,
        "id": "bdHwPOwn_JIX",
        "outputId": "c1290238-3e9c-407f-e521-6570e8f44efa"
      },
      "source": [
        "ratingcsv.head()"
      ],
      "execution_count": null,
      "outputs": [
        {
          "execution_count": 98,
          "output_type": "execute_result",
          "data": {
            "text/plain": "   user_id  anime_id  rating\n0        0       430       9\n1        0      1004       5\n2        0      3010       7\n3        0       570       7\n4        0      2762       9",
            "text/html": "<div>\n<style scoped>\n    .dataframe tbody tr th:only-of-type {\n        vertical-align: middle;\n    }\n\n    .dataframe tbody tr th {\n        vertical-align: top;\n    }\n\n    .dataframe thead th {\n        text-align: right;\n    }\n</style>\n<table border=\"1\" class=\"dataframe\">\n  <thead>\n    <tr style=\"text-align: right;\">\n      <th></th>\n      <th>user_id</th>\n      <th>anime_id</th>\n      <th>rating</th>\n    </tr>\n  </thead>\n  <tbody>\n    <tr>\n      <th>0</th>\n      <td>0</td>\n      <td>430</td>\n      <td>9</td>\n    </tr>\n    <tr>\n      <th>1</th>\n      <td>0</td>\n      <td>1004</td>\n      <td>5</td>\n    </tr>\n    <tr>\n      <th>2</th>\n      <td>0</td>\n      <td>3010</td>\n      <td>7</td>\n    </tr>\n    <tr>\n      <th>3</th>\n      <td>0</td>\n      <td>570</td>\n      <td>7</td>\n    </tr>\n    <tr>\n      <th>4</th>\n      <td>0</td>\n      <td>2762</td>\n      <td>9</td>\n    </tr>\n  </tbody>\n</table>\n</div>"
          },
          "metadata": {}
        }
      ]
    },
    {
      "cell_type": "markdown",
      "metadata": {
        "id": "Oo3bCiJ5_JIX"
      },
      "source": [
        "# Collaborative Filtering"
      ]
    },
    {
      "cell_type": "code",
      "metadata": {
        "execution": {
          "iopub.status.busy": "2021-09-07T01:50:31.288024Z",
          "iopub.execute_input": "2021-09-07T01:50:31.288627Z",
          "iopub.status.idle": "2021-09-07T01:50:31.306219Z",
          "shell.execute_reply.started": "2021-09-07T01:50:31.288582Z",
          "shell.execute_reply": "2021-09-07T01:50:31.305216Z"
        },
        "trusted": true,
        "id": "mwRDN8_A_JIX",
        "outputId": "ccf39f48-31ec-4b18-bed5-a4e5a1f7401d"
      },
      "source": [
        "userInput = [\n",
        "            {'Name':'Sword Art Online','rating':7},\n",
        "            {'Name':'Boku no Hero Academia', 'rating': 8},\n",
        "            {'Name':'Naruto', 'rating':9},\n",
        "            {'Name':\"One Punch Man\", 'rating':6},\n",
        "            {'Name':'Major S6', 'rating':9}\n",
        "         ] \n",
        "inputAnime = pd.DataFrame(userInput)\n",
        "inputAnime"
      ],
      "execution_count": null,
      "outputs": [
        {
          "execution_count": 99,
          "output_type": "execute_result",
          "data": {
            "text/plain": "                    Name  rating\n0       Sword Art Online       7\n1  Boku no Hero Academia       8\n2                 Naruto       9\n3          One Punch Man       6\n4               Major S6       9",
            "text/html": "<div>\n<style scoped>\n    .dataframe tbody tr th:only-of-type {\n        vertical-align: middle;\n    }\n\n    .dataframe tbody tr th {\n        vertical-align: top;\n    }\n\n    .dataframe thead th {\n        text-align: right;\n    }\n</style>\n<table border=\"1\" class=\"dataframe\">\n  <thead>\n    <tr style=\"text-align: right;\">\n      <th></th>\n      <th>Name</th>\n      <th>rating</th>\n    </tr>\n  </thead>\n  <tbody>\n    <tr>\n      <th>0</th>\n      <td>Sword Art Online</td>\n      <td>7</td>\n    </tr>\n    <tr>\n      <th>1</th>\n      <td>Boku no Hero Academia</td>\n      <td>8</td>\n    </tr>\n    <tr>\n      <th>2</th>\n      <td>Naruto</td>\n      <td>9</td>\n    </tr>\n    <tr>\n      <th>3</th>\n      <td>One Punch Man</td>\n      <td>6</td>\n    </tr>\n    <tr>\n      <th>4</th>\n      <td>Major S6</td>\n      <td>9</td>\n    </tr>\n  </tbody>\n</table>\n</div>"
          },
          "metadata": {}
        }
      ]
    },
    {
      "cell_type": "markdown",
      "metadata": {
        "id": "0pJBhPeU_JIY"
      },
      "source": [
        "## Add anime_id to input user"
      ]
    },
    {
      "cell_type": "code",
      "metadata": {
        "execution": {
          "iopub.status.busy": "2021-09-07T01:50:31.307488Z",
          "iopub.execute_input": "2021-09-07T01:50:31.307772Z",
          "iopub.status.idle": "2021-09-07T01:50:31.329993Z",
          "shell.execute_reply.started": "2021-09-07T01:50:31.307747Z",
          "shell.execute_reply": "2021-09-07T01:50:31.328776Z"
        },
        "trusted": true,
        "id": "Ys2diZb6_JIY",
        "outputId": "ab36bb76-df46-4dcf-e955-ec2147dc5668"
      },
      "source": [
        "#Filtering out the animes by title\n",
        "inputId = anime_movie_fillter[anime_movie_fillter['Name'].isin(inputAnime['Name'].tolist())]\n",
        "#Then merging it so we can get the anime_id. It's implicitly merging it by title.\n",
        "inputAnime = pd.merge(inputId, inputAnime)\n",
        "#Dropping information we won't use from the input dataframe\n",
        "#Final input dataframe\n",
        "#If a anime you added in above isn't here, then it might not be in the original \n",
        "#dataframe or it might spelled differently, please check capitalisation.\n",
        "inputAnime"
      ],
      "execution_count": null,
      "outputs": [
        {
          "execution_count": 100,
          "output_type": "execute_result",
          "data": {
            "text/plain": "   anime_id                   Name    Premiered  Popularity  year  rating\n0        20                 Naruto    Fall 2002           8  2002       9\n1      7655               Major S6  Spring 2010        2246  2010       9\n2     11757       Sword Art Online  Summer 2012           4  2012       7\n3     30276          One Punch Man    Fall 2015           5  2015       6\n4     31964  Boku no Hero Academia  Spring 2016           6  2016       8",
            "text/html": "<div>\n<style scoped>\n    .dataframe tbody tr th:only-of-type {\n        vertical-align: middle;\n    }\n\n    .dataframe tbody tr th {\n        vertical-align: top;\n    }\n\n    .dataframe thead th {\n        text-align: right;\n    }\n</style>\n<table border=\"1\" class=\"dataframe\">\n  <thead>\n    <tr style=\"text-align: right;\">\n      <th></th>\n      <th>anime_id</th>\n      <th>Name</th>\n      <th>Premiered</th>\n      <th>Popularity</th>\n      <th>year</th>\n      <th>rating</th>\n    </tr>\n  </thead>\n  <tbody>\n    <tr>\n      <th>0</th>\n      <td>20</td>\n      <td>Naruto</td>\n      <td>Fall 2002</td>\n      <td>8</td>\n      <td>2002</td>\n      <td>9</td>\n    </tr>\n    <tr>\n      <th>1</th>\n      <td>7655</td>\n      <td>Major S6</td>\n      <td>Spring 2010</td>\n      <td>2246</td>\n      <td>2010</td>\n      <td>9</td>\n    </tr>\n    <tr>\n      <th>2</th>\n      <td>11757</td>\n      <td>Sword Art Online</td>\n      <td>Summer 2012</td>\n      <td>4</td>\n      <td>2012</td>\n      <td>7</td>\n    </tr>\n    <tr>\n      <th>3</th>\n      <td>30276</td>\n      <td>One Punch Man</td>\n      <td>Fall 2015</td>\n      <td>5</td>\n      <td>2015</td>\n      <td>6</td>\n    </tr>\n    <tr>\n      <th>4</th>\n      <td>31964</td>\n      <td>Boku no Hero Academia</td>\n      <td>Spring 2016</td>\n      <td>6</td>\n      <td>2016</td>\n      <td>8</td>\n    </tr>\n  </tbody>\n</table>\n</div>"
          },
          "metadata": {}
        }
      ]
    },
    {
      "cell_type": "markdown",
      "metadata": {
        "id": "QI48YArf_JIY"
      },
      "source": [
        "## The users who has seen the same animes"
      ]
    },
    {
      "cell_type": "code",
      "metadata": {
        "execution": {
          "iopub.status.busy": "2021-09-07T01:50:31.331123Z",
          "iopub.execute_input": "2021-09-07T01:50:31.331392Z",
          "iopub.status.idle": "2021-09-07T01:50:31.838225Z",
          "shell.execute_reply.started": "2021-09-07T01:50:31.331366Z",
          "shell.execute_reply": "2021-09-07T01:50:31.837351Z"
        },
        "trusted": true,
        "id": "n5ts2Dc9_JIY",
        "outputId": "787c3e02-eb5b-4f5b-a016-e06c0bb78d33"
      },
      "source": [
        "#Filtering out users that have watched animes that the input has watched and storing it\n",
        "userSubset = ratingcsv[ratingcsv['anime_id'].isin(inputAnime['anime_id'].tolist())]\n",
        "userSubset.head()"
      ],
      "execution_count": null,
      "outputs": [
        {
          "execution_count": 101,
          "output_type": "execute_result",
          "data": {
            "text/plain": "     user_id  anime_id  rating\n52         1        20      10\n65         1     31964       9\n107        1     11757       5\n117        1     30276       8\n148        2        20       9",
            "text/html": "<div>\n<style scoped>\n    .dataframe tbody tr th:only-of-type {\n        vertical-align: middle;\n    }\n\n    .dataframe tbody tr th {\n        vertical-align: top;\n    }\n\n    .dataframe thead th {\n        text-align: right;\n    }\n</style>\n<table border=\"1\" class=\"dataframe\">\n  <thead>\n    <tr style=\"text-align: right;\">\n      <th></th>\n      <th>user_id</th>\n      <th>anime_id</th>\n      <th>rating</th>\n    </tr>\n  </thead>\n  <tbody>\n    <tr>\n      <th>52</th>\n      <td>1</td>\n      <td>20</td>\n      <td>10</td>\n    </tr>\n    <tr>\n      <th>65</th>\n      <td>1</td>\n      <td>31964</td>\n      <td>9</td>\n    </tr>\n    <tr>\n      <th>107</th>\n      <td>1</td>\n      <td>11757</td>\n      <td>5</td>\n    </tr>\n    <tr>\n      <th>117</th>\n      <td>1</td>\n      <td>30276</td>\n      <td>8</td>\n    </tr>\n    <tr>\n      <th>148</th>\n      <td>2</td>\n      <td>20</td>\n      <td>9</td>\n    </tr>\n  </tbody>\n</table>\n</div>"
          },
          "metadata": {}
        }
      ]
    },
    {
      "cell_type": "markdown",
      "metadata": {
        "id": "X2AjfXor_JIZ"
      },
      "source": [
        "We now group up the rows by user ID."
      ]
    },
    {
      "cell_type": "code",
      "metadata": {
        "execution": {
          "iopub.status.busy": "2021-09-07T01:50:31.839620Z",
          "iopub.execute_input": "2021-09-07T01:50:31.839910Z",
          "iopub.status.idle": "2021-09-07T01:50:31.864341Z",
          "shell.execute_reply.started": "2021-09-07T01:50:31.839882Z",
          "shell.execute_reply": "2021-09-07T01:50:31.863546Z"
        },
        "trusted": true,
        "id": "qeh3M3M2_JIZ"
      },
      "source": [
        "#Groupby creates several sub dataframes where they all have the same value in the column specified as the parameter\n",
        "userSubsetGroup = userSubset.groupby(['user_id'])"
      ],
      "execution_count": null,
      "outputs": []
    },
    {
      "cell_type": "code",
      "metadata": {
        "execution": {
          "iopub.status.busy": "2021-09-07T01:50:31.866178Z",
          "iopub.execute_input": "2021-09-07T01:50:31.866674Z",
          "iopub.status.idle": "2021-09-07T01:50:31.942575Z",
          "shell.execute_reply.started": "2021-09-07T01:50:31.866627Z",
          "shell.execute_reply": "2021-09-07T01:50:31.941806Z"
        },
        "trusted": true,
        "id": "sT55vUKZ_JIZ",
        "outputId": "6d07fd85-eeb4-468d-a2a3-823748add8e9"
      },
      "source": [
        "userSubsetGroup.head()"
      ],
      "execution_count": null,
      "outputs": [
        {
          "execution_count": 103,
          "output_type": "execute_result",
          "data": {
            "text/plain": "          user_id  anime_id  rating\n52              1        20      10\n65              1     31964       9\n107             1     11757       5\n117             1     30276       8\n148             2        20       9\n...           ...       ...     ...\n57633068   353400     30276       9\n57633075   353400        20      10\n57633108   353401     30276       8\n57633198   353403     11757      10\n57633220   353403     31964       9\n\n[552195 rows x 3 columns]",
            "text/html": "<div>\n<style scoped>\n    .dataframe tbody tr th:only-of-type {\n        vertical-align: middle;\n    }\n\n    .dataframe tbody tr th {\n        vertical-align: top;\n    }\n\n    .dataframe thead th {\n        text-align: right;\n    }\n</style>\n<table border=\"1\" class=\"dataframe\">\n  <thead>\n    <tr style=\"text-align: right;\">\n      <th></th>\n      <th>user_id</th>\n      <th>anime_id</th>\n      <th>rating</th>\n    </tr>\n  </thead>\n  <tbody>\n    <tr>\n      <th>52</th>\n      <td>1</td>\n      <td>20</td>\n      <td>10</td>\n    </tr>\n    <tr>\n      <th>65</th>\n      <td>1</td>\n      <td>31964</td>\n      <td>9</td>\n    </tr>\n    <tr>\n      <th>107</th>\n      <td>1</td>\n      <td>11757</td>\n      <td>5</td>\n    </tr>\n    <tr>\n      <th>117</th>\n      <td>1</td>\n      <td>30276</td>\n      <td>8</td>\n    </tr>\n    <tr>\n      <th>148</th>\n      <td>2</td>\n      <td>20</td>\n      <td>9</td>\n    </tr>\n    <tr>\n      <th>...</th>\n      <td>...</td>\n      <td>...</td>\n      <td>...</td>\n    </tr>\n    <tr>\n      <th>57633068</th>\n      <td>353400</td>\n      <td>30276</td>\n      <td>9</td>\n    </tr>\n    <tr>\n      <th>57633075</th>\n      <td>353400</td>\n      <td>20</td>\n      <td>10</td>\n    </tr>\n    <tr>\n      <th>57633108</th>\n      <td>353401</td>\n      <td>30276</td>\n      <td>8</td>\n    </tr>\n    <tr>\n      <th>57633198</th>\n      <td>353403</td>\n      <td>11757</td>\n      <td>10</td>\n    </tr>\n    <tr>\n      <th>57633220</th>\n      <td>353403</td>\n      <td>31964</td>\n      <td>9</td>\n    </tr>\n  </tbody>\n</table>\n<p>552195 rows × 3 columns</p>\n</div>"
          },
          "metadata": {}
        }
      ]
    },
    {
      "cell_type": "code",
      "metadata": {
        "execution": {
          "iopub.status.busy": "2021-09-07T01:50:31.943627Z",
          "iopub.execute_input": "2021-09-07T01:50:31.944084Z",
          "iopub.status.idle": "2021-09-07T01:50:31.947977Z",
          "shell.execute_reply.started": "2021-09-07T01:50:31.944030Z",
          "shell.execute_reply": "2021-09-07T01:50:31.947283Z"
        },
        "trusted": true,
        "id": "NA_wP35p_JIZ"
      },
      "source": [
        "exam = userSubset.groupby(['user_id','anime_id'])"
      ],
      "execution_count": null,
      "outputs": []
    },
    {
      "cell_type": "code",
      "metadata": {
        "execution": {
          "iopub.status.busy": "2021-09-07T01:50:31.950881Z",
          "iopub.execute_input": "2021-09-07T01:50:31.951225Z",
          "iopub.status.idle": "2021-09-07T01:50:32.121297Z",
          "shell.execute_reply.started": "2021-09-07T01:50:31.951181Z",
          "shell.execute_reply": "2021-09-07T01:50:32.120241Z"
        },
        "trusted": true,
        "id": "ATIJq9E1_JIZ",
        "outputId": "31266c7f-a499-4fb4-8245-19ab3e2e74a1"
      },
      "source": [
        "exam.first()"
      ],
      "execution_count": null,
      "outputs": [
        {
          "execution_count": 105,
          "output_type": "execute_result",
          "data": {
            "text/plain": "                  rating\nuser_id anime_id        \n1       20            10\n        11757          5\n        30276          8\n        31964          9\n2       20             9\n...                  ...\n353400  11757          8\n        30276          9\n353401  30276          8\n353403  11757         10\n        31964          9\n\n[552195 rows x 1 columns]",
            "text/html": "<div>\n<style scoped>\n    .dataframe tbody tr th:only-of-type {\n        vertical-align: middle;\n    }\n\n    .dataframe tbody tr th {\n        vertical-align: top;\n    }\n\n    .dataframe thead th {\n        text-align: right;\n    }\n</style>\n<table border=\"1\" class=\"dataframe\">\n  <thead>\n    <tr style=\"text-align: right;\">\n      <th></th>\n      <th></th>\n      <th>rating</th>\n    </tr>\n    <tr>\n      <th>user_id</th>\n      <th>anime_id</th>\n      <th></th>\n    </tr>\n  </thead>\n  <tbody>\n    <tr>\n      <th rowspan=\"4\" valign=\"top\">1</th>\n      <th>20</th>\n      <td>10</td>\n    </tr>\n    <tr>\n      <th>11757</th>\n      <td>5</td>\n    </tr>\n    <tr>\n      <th>30276</th>\n      <td>8</td>\n    </tr>\n    <tr>\n      <th>31964</th>\n      <td>9</td>\n    </tr>\n    <tr>\n      <th>2</th>\n      <th>20</th>\n      <td>9</td>\n    </tr>\n    <tr>\n      <th>...</th>\n      <th>...</th>\n      <td>...</td>\n    </tr>\n    <tr>\n      <th rowspan=\"2\" valign=\"top\">353400</th>\n      <th>11757</th>\n      <td>8</td>\n    </tr>\n    <tr>\n      <th>30276</th>\n      <td>9</td>\n    </tr>\n    <tr>\n      <th>353401</th>\n      <th>30276</th>\n      <td>8</td>\n    </tr>\n    <tr>\n      <th rowspan=\"2\" valign=\"top\">353403</th>\n      <th>11757</th>\n      <td>10</td>\n    </tr>\n    <tr>\n      <th>31964</th>\n      <td>9</td>\n    </tr>\n  </tbody>\n</table>\n<p>552195 rows × 1 columns</p>\n</div>"
          },
          "metadata": {}
        }
      ]
    },
    {
      "cell_type": "markdown",
      "metadata": {
        "id": "IO59y3Co_JIZ"
      },
      "source": [
        "Let's also sort these groups so the users that share the most anime in common with the input have higher priority. This provides a richer recommendation since we won't go through every single user."
      ]
    },
    {
      "cell_type": "code",
      "metadata": {
        "execution": {
          "iopub.status.busy": "2021-09-07T01:50:32.123048Z",
          "iopub.execute_input": "2021-09-07T01:50:32.123376Z",
          "iopub.status.idle": "2021-09-07T01:50:42.728573Z",
          "shell.execute_reply.started": "2021-09-07T01:50:32.123343Z",
          "shell.execute_reply": "2021-09-07T01:50:42.727677Z"
        },
        "trusted": true,
        "id": "cDc-LWII_JIa"
      },
      "source": [
        "#Sorting it so users with anime most in common with the input will have priority\n",
        "userSubsetGroup = sorted(userSubsetGroup,  key=lambda x: len(x[1]), reverse=True)"
      ],
      "execution_count": null,
      "outputs": []
    },
    {
      "cell_type": "markdown",
      "metadata": {
        "id": "SGFZCDj7_JIa"
      },
      "source": [
        "Now lets look at the first user"
      ]
    },
    {
      "cell_type": "code",
      "metadata": {
        "execution": {
          "iopub.status.busy": "2021-09-07T01:50:42.730005Z",
          "iopub.execute_input": "2021-09-07T01:50:42.730569Z",
          "iopub.status.idle": "2021-09-07T01:50:42.742071Z",
          "shell.execute_reply.started": "2021-09-07T01:50:42.730531Z",
          "shell.execute_reply": "2021-09-07T01:50:42.741146Z"
        },
        "trusted": true,
        "id": "CV9x2SsO_JIa",
        "outputId": "1efe14e8-8bd2-47e9-b36f-ab36146e2465"
      },
      "source": [
        "userSubsetGroup[0:3]"
      ],
      "execution_count": null,
      "outputs": [
        {
          "execution_count": 107,
          "output_type": "execute_result",
          "data": {
            "text/plain": "[(110,\n         user_id  anime_id  rating\n  13274      110     11757      10\n  13347      110     31964      10\n  13419      110     30276      10\n  13500      110        20      10\n  13515      110      7655      10),\n (134,\n         user_id  anime_id  rating\n  17124      134     11757       6\n  17133      134     31964       6\n  17159      134        20       7\n  17162      134      7655       7\n  17164      134     30276       7),\n (172,\n         user_id  anime_id  rating\n  22485      172      7655       8\n  22574      172     11757       5\n  22607      172     30276      10\n  22693      172     31964       9\n  22757      172        20       8)]"
          },
          "metadata": {}
        }
      ]
    },
    {
      "cell_type": "code",
      "metadata": {
        "execution": {
          "iopub.status.busy": "2021-09-07T01:50:42.743455Z",
          "iopub.execute_input": "2021-09-07T01:50:42.743830Z",
          "iopub.status.idle": "2021-09-07T01:50:43.280637Z",
          "shell.execute_reply.started": "2021-09-07T01:50:42.743796Z",
          "shell.execute_reply": "2021-09-07T01:50:43.279818Z"
        },
        "trusted": true,
        "id": "j_G7FLH1_JIa"
      },
      "source": [
        "userSubsetGroup = userSubsetGroup[0:1000]"
      ],
      "execution_count": null,
      "outputs": []
    },
    {
      "cell_type": "markdown",
      "metadata": {
        "id": "3Hx9dHdj_JIa"
      },
      "source": [
        "## Similarity of users to input user"
      ]
    },
    {
      "cell_type": "markdown",
      "metadata": {
        "id": "OqU54bnr_JIa"
      },
      "source": [
        "Pearson correlation is invariant to scaling, i.e. multiplying all elements by a nonzero constant or adding any constant to all elements. For example, if you have two vectors X and Y,then, pearson(X, Y) == pearson(X, 2 * Y + 3). This is a pretty important property in recommendation systems because for example two users might rate two series of items totally different in terms of absolute rates, but they would be similar users (i.e. with similar ideas) with similar rates in various scales .\n",
        "\n",
        "![image.png](attachment:881e3d24-fc1b-494f-aae2-1d68773b6101.png)"
      ]
    },
    {
      "cell_type": "code",
      "metadata": {
        "execution": {
          "iopub.status.busy": "2021-09-07T01:50:43.282489Z",
          "iopub.execute_input": "2021-09-07T01:50:43.282942Z",
          "iopub.status.idle": "2021-09-07T01:50:44.563235Z",
          "shell.execute_reply.started": "2021-09-07T01:50:43.282862Z",
          "shell.execute_reply": "2021-09-07T01:50:44.562057Z"
        },
        "trusted": true,
        "id": "slFVcBuH_JIa"
      },
      "source": [
        "#Store the Pearson Correlation in a dictionary, where the key is the user Id and the value is the coefficient คำนวณ\n",
        "pearsonCorrelationDict = {}\n",
        "\n",
        "#For every user group in our subset\n",
        "for name, group in userSubsetGroup:\n",
        "    #Let's start by sorting the input and current user group so the values aren't mixed up later on\n",
        "    group = group.sort_values(by='anime_id')\n",
        "    inputAnime = inputAnime.sort_values(by='anime_id')\n",
        "    #Get the N for the formula\n",
        "    nRatings = len(group)\n",
        "    #Get the review scores for the anime that they both have in common\n",
        "    temp_df = inputAnime[inputAnime['anime_id'].isin(group['anime_id'].tolist())]\n",
        "    #And then store them in a temporary buffer variable in a list format to facilitate future calculations\n",
        "    tempRatingList = temp_df['rating'].tolist()\n",
        "    #Let's also put the current user group reviews in a list format\n",
        "    tempGroupList = group['rating'].tolist()\n",
        "    #Now let's calculate the pearson correlation between two users, so called, x and y\n",
        "    #ให้ x คือ \n",
        "    Sxx = sum([i**2 for i in tempRatingList]) - pow(sum(tempRatingList),2)/float(nRatings)\n",
        "    Syy = sum([i**2 for i in tempGroupList]) - pow(sum(tempGroupList),2)/float(nRatings)\n",
        "    Sxy = sum( i*j for i, j in zip(tempRatingList, tempGroupList)) - sum(tempRatingList)*sum(tempGroupList)/float(nRatings)\n",
        "    \n",
        "    #If the denominator is different than zero, then divide, else, 0 correlation.\n",
        "    if Sxx != 0 and Syy != 0:\n",
        "        pearsonCorrelationDict[name] = Sxy/sqrt(Sxx*Syy)\n",
        "    else:\n",
        "        pearsonCorrelationDict[name] = 0\n"
      ],
      "execution_count": null,
      "outputs": []
    },
    {
      "cell_type": "code",
      "metadata": {
        "execution": {
          "iopub.status.busy": "2021-09-07T01:50:44.564535Z",
          "iopub.execute_input": "2021-09-07T01:50:44.564827Z",
          "iopub.status.idle": "2021-09-07T01:50:44.574786Z",
          "shell.execute_reply.started": "2021-09-07T01:50:44.564798Z",
          "shell.execute_reply": "2021-09-07T01:50:44.573808Z"
        },
        "trusted": true,
        "id": "UIdD9EMC_JIa",
        "outputId": "0e7c22b0-65e5-47db-87b1-252ea2b29c8e"
      },
      "source": [
        "group.head(20)"
      ],
      "execution_count": null,
      "outputs": [
        {
          "execution_count": 110,
          "output_type": "execute_result",
          "data": {
            "text/plain": "          user_id  anime_id  rating\n18373393   112848        20       7\n18373468   112848      7655       9\n18373194   112848     11757       5\n18373432   112848     30276       9\n18373373   112848     31964       9",
            "text/html": "<div>\n<style scoped>\n    .dataframe tbody tr th:only-of-type {\n        vertical-align: middle;\n    }\n\n    .dataframe tbody tr th {\n        vertical-align: top;\n    }\n\n    .dataframe thead th {\n        text-align: right;\n    }\n</style>\n<table border=\"1\" class=\"dataframe\">\n  <thead>\n    <tr style=\"text-align: right;\">\n      <th></th>\n      <th>user_id</th>\n      <th>anime_id</th>\n      <th>rating</th>\n    </tr>\n  </thead>\n  <tbody>\n    <tr>\n      <th>18373393</th>\n      <td>112848</td>\n      <td>20</td>\n      <td>7</td>\n    </tr>\n    <tr>\n      <th>18373468</th>\n      <td>112848</td>\n      <td>7655</td>\n      <td>9</td>\n    </tr>\n    <tr>\n      <th>18373194</th>\n      <td>112848</td>\n      <td>11757</td>\n      <td>5</td>\n    </tr>\n    <tr>\n      <th>18373432</th>\n      <td>112848</td>\n      <td>30276</td>\n      <td>9</td>\n    </tr>\n    <tr>\n      <th>18373373</th>\n      <td>112848</td>\n      <td>31964</td>\n      <td>9</td>\n    </tr>\n  </tbody>\n</table>\n</div>"
          },
          "metadata": {}
        }
      ]
    },
    {
      "cell_type": "code",
      "metadata": {
        "execution": {
          "iopub.status.busy": "2021-09-07T01:50:44.576002Z",
          "iopub.execute_input": "2021-09-07T01:50:44.576302Z",
          "iopub.status.idle": "2021-09-07T01:50:44.590974Z",
          "shell.execute_reply.started": "2021-09-07T01:50:44.576269Z",
          "shell.execute_reply": "2021-09-07T01:50:44.589796Z"
        },
        "trusted": true,
        "id": "WvxxiHet_JIb",
        "outputId": "b12ec3d1-4bdf-4e6a-ce20-bf7e775ab892"
      },
      "source": [
        "pearsonCorrelationDict.items()"
      ],
      "execution_count": null,
      "outputs": [
        {
          "execution_count": 111,
          "output_type": "execute_result",
          "data": {
            "text/plain": "dict_items([(110, 0), (134, 0.21004201260421027), (172, -0.10249000771134838), (243, -0.045834924851407825), (248, -0.7333587976225643), (321, 0.54232614454664), (445, 0.54232614454664), (479, 0.08574929257124962), (853, 0.28270704564493765), (1008, -0.21004201260421027), (1021, 0), (1221, 0.35887028128263415), (1396, -0.8708635721768009), (1561, -0.08574929257125767), (1817, 0.3001225239993858), (2237, 0.057166195047499695), (2355, 0.10090091909945072), (2382, 0.33210558207753543), (2388, -0.14002800840279356), (2425, 0.15655607277128725), (2601, -0.4125143236626965), (2656, -0.21004201260421027), (2721, 0.34299717028501986), (2892, -0.437237316097607), (2976, -0.7717436331412953), (2993, -0.21004201260421027), (3276, -0.14002800840279356), (3295, 0.7288689868556583), (3382, -0.19174124721184244), (3409, 0.54232614454664), (3436, -0.9432422182837986), (3537, -0.18333969940564435), (3558, -0.7827803638564362), (3588, 0), (3632, -0.07075491376772343), (3645, -0.7288689868556583), (3862, -0.18333969940564435), (4217, 0.2262848189276261), (4283, -0.73994007339594), (4330, -0.9625334218796164), (4480, 0.437237316097607), (4610, 0.33210558207753543), (4785, -0.7333587976225643), (4890, -0.705882352941177), (4993, -0.5144957554275176), (5045, 0.0), (5118, -0.21004201260421027), (5152, -0.8401680504168062), (5195, -0.5144957554275176), (5260, -0.5041841733655121), (5264, 0.5041841733655121), (5411, -0.057166195047499695), (5472, -0.025854384499749448), (5809, -0.5144957554275176), (5829, -0.15655607277128725), (6099, -0.6416889479197486), (6149, -0.9625334218796164), (6480, -0.3235294117647037), (6521, 0.21004201260421027), (6638, -0.34299717028502286), (6900, -0.38348249442368487), (6918, -0.7278727647122836), (6948, -0.1604222369799343), (7007, 0.045834924851407825), (7024, 0.34299717028501986), (7098, 0.08574929257124962), (7157, -0.0758582606136289), (7181, -0.5144957554275176), (7289, -0.6416889479197486), (7313, -0.4117647058823539), (7397, -0.3287191293257156), (7622, -0.02143732314281236), (7733, -0.6054055145966852), (7750, -0.4298634768105446), (7775, 0.26906911759852886), (7861, -0.5144957554275176), (7908, -0.7669649888473697), (7912, 0.5144957554275221), (7942, -0.9432422182838018), (8037, 0.8003267306650445), (8056, -0.1286239388568866), (8059, 0.11354659116073344), (8074, -0.5573704017131591), (8100, 0.045834924851407825), (8154, 0.08574929257124962), (8175, -0.73994007339594), (8190, 0.0), (8332, -0.7717436331412886), (8519, 0.12126781251816639), (8522, -0.34299717028502286), (8549, -0.19174124721184244), (8634, 0.10090091909945072), (8728, -0.9101820546182179), (8773, -0.5601120336112141), (8902, 0.3429971702850144), (9165, 0.23543547789870561), (9343, 0), (9528, 0), (9614, 0.045834924851407825), (9623, -0.48507125007266555), (9925, -0.1286239388568823), (10158, -0.6054055145966852), (10160, -0.21004201260421027), (10195, 0), (10268, 0.41866241698517087), (10484, 0.0), (10546, -0.8134892168199599), (10568, 0.5717718748968619), (10693, 0.5429420744947678), (10773, 0.1286239388568866), (10836, -0.06726727939962744), (10980, -0.22866478019001096), (11219, -0.5144957554275176), (11302, -0.8134892168199599), (11381, -0.045834924851407825), (11388, 0.15655607277128725), (11569, 0.5041841733655134), (11605, -0.21004201260421027), (11697, -0.06333004963811473), (11794, 0.0), (11966, -0.20583232685540664), (12040, -0.14002800840279947), (12082, -0.9393364366277235), (12116, -0.0758582606136289), (12143, 0.1377056581888114), (12340, -0.27116307227332), (12500, 0.7288689868556583), (12569, 0.1286239388568866), (12577, -0.08574929257124887), (12857, -0.8134892168199599), (12888, 0.13558153613666), (12968, 0), (13116, 0.0), (13364, -0.5144957554275221), (13377, -0.7333587976225643), (13604, -0.34299717028502286), (13619, -0.9625334218796164), (13640, 0.23543547789870561), (13768, -0.40674460840997995), (13786, -0.7717436331412886), (13894, 0.319519577148249), (13911, 0.08574929257124887), (13922, 0.17647058823529216), (13964, 0.4117647058823539), (14043, -0.14002800840279356), (14333, -0.8134892168199599), (14533, 0.3850770231076999), (14627, -0.3034330424545012), (14693, -0.437237316097607), (14764, -0.0458349248514112), (14863, 0.6416889479197486), (14996, 0.045834924851407825), (15103, -0.02941176470588063), (15127, 0), (15213, -0.08574929257124962), (15340, 0.2192993612779461), (15381, 0.3287191293257156), (15411, -0.5041841733655121), (15413, 0.14002800840279356), (15520, -0.1400280084028027), (15627, -0.045834924851407825), (15670, 0.5144957554275176), (15693, -0.5144957554275221), (15761, 0.15655607277128725), (15958, 0.5601120336112141), (15983, 0.73994007339594), (16020, 0.7333587976225643), (16102, 0.08574929257124962), (16452, -0.6651330399133053), (16530, 0.4125143236626965), (16766, -0.0758582606136289), (17279, -0.437237316097607), (17565, -0.4125143236626965), (17649, 0.34299717028501986), (17654, 0.34299717028502286), (17745, 0.2647058823529424), (17775, 0.8708635721768009), (17798, 0.26906911759852375), (17891, 0.54232614454664), (17995, 0.2843982294972586), (18387, -0.17647058823529216), (18422, 0.54232614454664), (18454, 0.49123330549526895), (18474, 0.3235294117647037), (18520, -0.5601120336112008), (18538, -0.54232614454664), (18553, -0.5041841733655121), (18624, 0.7717436331412886), (18928, -0.7333587976225643), (18998, 0.7717436331412953), (19064, -0.27116307227332), (19078, 0.30012252399939193), (19138, 0), (19294, -0.4658071104973462), (19568, 0.15655607277128725), (19573, 0.437237316097607), (19703, 0.8708635721768009), (19782, -0.556293911166588), (20152, -0.9101820546182179), (20168, -0.4541863646429257), (20261, -0.6416889479197486), (20307, 0.24041118447297743), (20415, -0.5041841733655134), (20857, 0.10090091909945072), (20921, 0.54232614454664), (21032, -0.7351470441147017), (21053, -0.38348249442368487), (21069, -0.40674460840997995), (21137, -0.8401680504168035), (21185, -0.14002800840279356), (21326, -0.7735737130957634), (21414, 0.5041841733655121), (21435, -0.7497771504927782), (21439, -0.18333969940564435), (21615, -0.7735737130957634), (21835, -0.5144957554275176), (21949, 0.437237316097607), (22018, 0.40879371260483005), (22022, 0.7717436331412953), (22077, 0.08574929257124962), (22312, 0.49009802940980446), (22393, 0.09038769075777332), (22405, -0.27116307227332), (22443, 0.06726727939962744), (22533, 0.3235294117647037), (22635, -0.7278727647122836), (22636, 0.24764219818702948), (22702, -0.1400280084028027), (23147, 0.06726727939962744), (23204, -0.1400280084028027), (23316, -0.5588235294117655), (23431, -0.6416889479197486), (23521, 0.9417419115948416), (23522, -0.5144957554275176), (23738, -0.06726727939962744), (23930, -0.12738595105969813), (24169, 0.045834924851407825), (24292, 0.3001225239993858), (24435, -0.5041841733655121), (24526, -0.49009802940980446), (24560, -0.5601120336112141), (24725, -0.5144957554275176), (24767, -0.7333587976225643), (24844, -0.6416889479197486), (24998, -0.626224291085149), (25179, -0.7717436331412886), (25196, -0.5535093034625591), (25227, -0.6755205294731957), (25302, 0.0), (25320, -0.8401680504168062), (25338, -0.10984700727621746), (25470, 0.591900346985238), (25489, -0.03500700210069819), (25605, 0.1400280084028027), (26007, -0.5573704017131591), (26066, -0.21004201260421027), (26164, -0.9625334218796164), (26189, 0.08574929257124887), (26200, -0.40674460840997995), (26246, 0), (26448, 0.0), (26507, -0.06726727939962744), (26529, -0.5041841733655121), (26650, -0.6722139969935225), (26941, 0.4125143236626965), (27165, -0.5144957554275298), (27398, 0.3001225239993913), (27694, -0.0758582606136253), (27853, 0.6574112430462824), (27990, -0.8134892168199599), (28030, -0.38348249442368487), (28138, -0.7333587976225643), (28157, -0.18333969940564435), (28223, -0.9101820546182179), (28231, 0.6176470588235267), (28353, -0.4900980294097974), (28368, 0.7717436331412953), (28505, 0.09240616554505364), (28549, -0.7333587976225643), (28854, -0.6827243455226313), (29103, -0.437237316097607), (29224, -0.3638034375544991), (29259, -0.8134892168199599), (29728, -0.045834924851407825), (29737, 0.34299717028501986), (29865, 0.3189808891315585), (29924, -0.34299717028501986), (29967, 0.3429971702850144), (30030, -0.057166195047499695), (30077, 0), (30218, 0.24641644145347785), (30355, 0.5601120336112141), (30453, 0.19174124721184244), (30495, -0.4117647058823539), (30668, -0.8401680504168012), (30694, -0.03500700210069819), (30718, -0.54232614454664), (30966, -0.17700260809845783), (31027, 0.4900980294097974), (31166, -0.6416889479197486), (31265, -0.5041841733655121), (31316, 0.08574929257124962), (31366, -0.23543547789870561), (31568, 0.5144957554275176), (31615, -0.5717718748968619), (31707, -0.7351470441147017), (31748, 0.34299717028501986), (31754, -0.34299717028502286), (31794, 0.0758582606136289), (31800, 0.4900980294097974), (32000, 0.0), (32117, 0.34299717028501986), (32246, -0.7234780434144695), (32413, -0.18333969940564435), (32587, 0), (32640, -0.8790490729915327), (32665, 0.24041118447297743), (32723, -0.19174124721184244), (32805, -0.7717436331412953), (32851, -0.7288689868556583), (33160, 0.5144957554275176), (33318, -0.14002800840279356), (33365, -0.5717718748968619), (33911, 0.045834924851407825), (33931, -0.5601120336112008), (33975, -0.14002800840279356), (34224, -0.06726727939962744), (34261, -0.54232614454664), (34348, -0.27116307227332), (34530, -0.6416889479197486), (34570, -0.4125143236626965), (34611, 0.14002800840279356), (34817, 0.17647058823529216), (34894, -0.7288689868556583), (35239, 0.5601120336112045), (35623, 0.045834924851407825), (35650, -0.0758582606136289), (35682, 0.19174124721184244), (35876, -0.6491838171758247), (35936, 0.0), (35941, 0.17647058823529216), (36035, 0), (36118, 0), (36253, -0.9081082718950182), (36330, -0.045834924851407936), (36370, 0.1286239388568866), (36588, 0.08574929257124962), (37191, 0.54232614454664), (37339, -0.21004201260419905), (37393, -0.10341753799900515), (37394, -0.23543547789870561), (37404, -0.2647058823529424), (37431, -0.5041841733655121), (37440, 0.15655607277128725), (37584, -0.5588235294117655), (37585, -0.5717718748968619), (37773, 0.14002800840279356), (37830, 0.3235294117647037), (37967, 0.04802921064280805), (38035, -0.6054055145966852), (38070, -0.54232614454664), (38125, -0.1286239388568866), (38177, -0.21004201260421027), (38178, 0.7252378661191539), (38287, -0.437237316097607), (38382, -0.38348249442368487), (38462, 0.8401680504168012), (38526, -0.5573704017131591), (38802, 0.38348249442368487), (38820, -0.5041841733655121), (38938, -0.06576670522058199), (38965, -0.7717436331412953), (39044, -0.10090091909945072), (39106, 0.3235294117647037), (39241, -0.38348249442368487), (39353, -0.5781528615509529), (39380, 0.045834924851407825), (39402, -0.5041841733655121), (39403, 0.34299717028501986), (39423, -0.5144957554275298), (39482, -0.7717436331412886), (39705, -0.6416889479197486), (39742, 0.23543547789870561), (39785, -0.6054055145966852), (40097, 0.4125143236626965), (40148, 0.7827803638564362), (40230, -0.5041841733655121), (40287, 0.7288689868556583), (40304, -0.54232614454664), (40450, 0.045834924851407825), (40510, -0.1400280084028027), (40655, -0.5144957554275221), (40731, -0.9224100694021354), (40765, -0.9587062360592122), (40824, -0.23543547789870561), (41112, -0.5144957554275271), (41157, -0.4117647058823539), (41174, 0.18333969940564435), (41216, -0.7647058823529382), (41241, -0.3235294117647037), (41429, -0.7647058823529382), (41787, -0.5601120336112141), (41798, -0.4705882352941152), (42006, -0.54232614454664), (42273, -0.27116307227332), (42305, -0.5601120336112008), (42427, -0.1400280084028027), (42460, -0.21654639651215188), (42512, 0.8529411764705885), (42613, -0.045834924851407936), (42661, -0.8134892168199599), (42963, 0.4125143236626965), (43059, -0.38348249442368487), (43129, 0.019936305570721343), (43331, -0.4125143236626965), (43447, -0.5144957554275176), (43627, 0.0), (43723, -0.4298634768105446), (43902, 0.7717436331412953), (43952, -0.08574929257124887), (43988, 0.3328770246548884), (44082, -0.21004201260419905), (44149, 0.3034330424545012), (44202, -0.4117647058823539), (44316, -0.5573704017131591), (44412, 0.7288689868556583), (44638, -0.045834924851407825), (44714, -0.06726727939962744), (44724, -0.0857492925712536), (44796, 0), (44843, 0.2177158930442006), (44878, -0.21004201260420252), (44951, -0.7647058823529382), (45059, 0.9101820546182179), (45262, 0.14002800840279356), (45387, 0.045834924851407825), (45388, -0.9625334218796164), (45839, -0.30747002313404515), (45897, -0.34299717028501603), (45914, 0.18333969940564435), (45916, -0.38348249442368487), (46093, 0.14002800840279356), (46319, -0.7333587976225643), (46393, -0.7717436331412886), (46394, -0.045834924851407936), (46425, -0.21004201260421027), (46532, 0), (46938, -0.7717436331412886), (46973, 0.5717718748968619), (47050, -0.8708635721768009), (47413, 0.08574929257124962), (47620, 0.4900980294097974), (47639, -0.14002800840279356), (47661, 0.14002800840279356), (47699, -0.03500700210069819), (47776, -0.41367015199601326), (47918, -0.21004201260421027), (47989, 0.5717718748968619), (48158, -0.4900980294097974), (48330, -0.5717718748968619), (48530, 0), (48580, -0.5144957554275221), (48614, -0.389596861236987), (48696, 0.7827803638564362), (48711, 0.21004201260419905), (48760, -0.3001225239993913), (48850, -0.6722139969935225), (48876, 0.8401680504168012), (48970, 0.5281452275692496), (49298, -0.21004201260419905), (49471, -0.4125143236626965), (49708, -0.03500700210069819), (49852, -0.0857492925712536), (50122, 0.5144957554275176), (50259, -0.03500700210069824), (50294, 0.2647058823529424), (50323, 0.08574929257124962), (50379, 0.2647058823529424), (50400, 0.4036036763977838), (50401, -0.11961783342433373), (50601, 0.0), (50614, -0.5144957554275221), (50696, -0.4073091397134592), (50716, -0.5601120336112141), (50878, -0.5601120336112141), (50978, -0.23268946049775974), (50981, 0.08574929257124962), (50990, 0), (51187, 0.045834924851407825), (51387, -0.22866478019001502), (51712, 0.29792701153417117), (51808, -0.15655607277128725), (52019, 0.4099600308453935), (52212, -0.3131121455425745), (52320, 0.327034970083864), (52669, 0), (52696, 0.21004201260421027), (52934, -0.41367015199601326), (52984, 0.08574929257124887), (53016, -0.19174124721184244), (53038, -0.07484811885651295), (53081, -0.21004201260421027), (53100, 0.03698633607276333), (53304, -0.6176470588235267), (53345, -0.045834924851407825), (53434, 0.3034330424545012), (53570, -0.6416889479197486), (53676, 0.38348249442368487), (53831, -0.5144957554275176), (53951, -0.5601120336112008), (54016, 0.7333587976225643), (54199, -0.4036036763977838), (54267, 0.7647058823529382), (54350, -0.1286239388568866), (54388, 0.06726727939963213), (54678, 0.21004201260421027), (54802, -0.5717718748968619), (54818, 0.8401680504168062), (54917, -0.057166195047499695), (54921, -0.6416889479197486), (55007, -0.9625334218796164), (55069, 0.26906911759852886), (55107, -0.5144957554275298), (55281, -0.5041841733655121), (55408, 0.26906911759852886), (55663, 0.40674460840997995), (55668, -0.9101820546182179), (55748, -0.7669649888473697), (55756, 0.31506301890630356), (56005, -0.19174124721184244), (56008, -0.03934447376822943), (56026, -0.26906911759852886), (56050, -0.9587062360592122), (56056, -0.18333969940564435), (56070, 0.7717436331412886), (56161, -0.5144957554275261), (56216, 0.27116307227332), (56318, 0.045834924851407825), (56830, 0.21004201260420266), (56921, -0.4900980294097974), (56965, -0.045834924851407936), (57232, 0.3361227822436777), (57454, -0.18333969940564435), (57553, -0.41367015199601326), (57779, -0.8134892168199599), (57901, -0.5573704017131591), (58211, -0.08574929257124887), (58473, -0.4519384537888666), (58574, 0.019936305570721343), (58576, 0.34299717028502286), (58721, -0.21004201260421027), (58899, -0.5041841733655134), (58946, 0.7333587976225643), (59060, 0.08574929257124962), (59226, -0.5717718748968619), (59282, -0.06726727939962744), (59629, 0.34299717028502286), (59755, 0.5041841733655121), (59785, -0.49009802940980446), (59790, -0.6416889479197486), (59894, -0.17647058823529216), (59900, -0.5330372837222135), (60213, 0), (60219, -0.437237316097607), (60356, 0.08574929257125553), (60421, -0.19174124721184244), (60503, 0.10090091909945072), (60698, -0.8401680504168012), (60797, -0.5717718748968619), (60848, 0.7717436331412953), (60947, 0.4253428648368046), (61133, 0), (61214, 0.31506301890630356), (61271, 0.34299717028501986), (61479, -0.23543547789870561), (61527, 0.0), (61677, -0.5717718748968619), (61873, 0.34299717028501986), (61902, 0.09335200560186853), (62074, 0.3490341907466362), (62130, -0.73994007339594), (62361, 0.0), (62411, -0.07484811885651295), (62760, -0.5588235294117655), (62810, 0.437237316097607), (62964, 0.045834924851407825), (62995, 0.34299717028502286), (63043, -0.7669649888473697), (63191, -0.21004201260421027), (63236, 0.045834924851407825), (63317, -0.73994007339594), (63461, -0.7669649888473697), (63488, 0.15655607277128725), (63806, 0.22140372138502362), (63908, -0.045834924851407825), (64179, -0.8708635721768009), (64399, -0.21004201260421027), (64757, -0.7333587976225643), (64807, 0.01231288083944559), (64809, -0.5041841733655121), (64871, -0.5573704017131591), (64971, -0.5601120336112008), (65142, 0.045834924851407825), (65553, -0.73994007339594), (65572, -0.14002800840279356), (65964, -0.081758742520966), (65971, 0.30012252399939193), (66193, -0.9625334218796164), (66376, 0.5429420744947678), (66706, 0.9625334218796164), (67086, 0.8708635721768009), (67092, 0.38348249442368487), (67389, 0.4125143236626965), (67469, -0.7735737130957634), (67490, 0.33210558207753543), (67693, -0.23543547789870561), (67780, 0.5144957554275176), (67943, 0.14002800840280288), (67981, 0.23543547789870561), (68008, -0.5588235294117655), (68016, 0.10090091909945072), (68042, 0.12945217625467692), (68120, -0.02941176470588063), (68200, -0.38348249442368487), (68289, -0.21004201260421027), (68391, 0.3034330424545048), (68443, 0.15655607277128725), (68705, -0.09335200560186853), (68863, -0.21004201260419905), (68871, -0.49009802940980446), (68900, 0.21004201260421027), (69014, -0.18333969940564435), (69041, 0.34299717028501986), (69046, -0.08574929257124887), (69157, -0.5144957554275176), (69237, 0.0), (69377, 0.8525184889098301), (69602, -0.38348249442368487), (69610, 0.0), (69761, -0.5601120336112141), (69774, -0.14002800840279356), (69786, 0.3001225239993858), (69788, -0.3235294117647037), (69894, -0.6778343894045653), (70007, -0.045834924851407825), (70101, -0.705882352941177), (70207, -0.5573704017131591), (70667, 0.22140372138502362), (70791, 0.30747002313404515), (70795, -0.626224291085149), (70856, -0.02941176470588063), (71084, 0.18333969940564435), (71162, 0.437237316097607), (71198, 0.8134892168199599), (71232, -0.49009802940980446), (71349, 0.045834924851407825), (71619, -0.7333587976225643), (71631, 0.045834924851407825), (71645, -0.6054055145966852), (71773, 0.34299717028501986), (72206, -0.3235294117647037), (72399, -0.21004201260419905), (72448, 0.2647058823529427), (72486, -0.49009802940980446), (72525, -0.8134892168199599), (72581, 0.045834924851407825), (72822, -0.14002800840279356), (72940, -0.8134892168199599), (72988, -0.54232614454664), (73059, -0.5144957554275271), (73197, -0.2192993612779461), (73287, 0.0), (73378, 0.6827243455226313), (73436, -0.5041841733655121), (73801, -0.08574929257124962), (73818, -0.4036036763977838), (73849, -0.27116307227332), (73937, -0.4117647058823539), (74145, -0.21004201260421027), (74188, -0.34299717028501986), (74206, -0.26906911759852886), (74232, -0.6416889479197486), (74330, -0.46966821831386174), (74415, 0.4900980294097974), (74712, 0.20228869496966853), (74959, -0.2567180154051335), (75005, 0.1986180076894474), (75046, 0.27116307227332), (75074, -0.06726727939962744), (75103, 0.17668545570588867), (75448, 0.057166195047499695), (75475, 0.54232614454664), (75735, -0.14002800840279356), (75999, 0.8134892168199599), (76013, 0.3001225239993858), (76191, -0.17700260809845783), (76417, -0.4784713336973406), (76555, 0.9432422182837986), (76599, -0.7717436331412953), (76674, -0.8529411764705885), (76822, 0.14002800840279356), (76844, 0.3429971702850144), (76888, -0.08574929257124887), (77165, -0.7717436331412953), (77233, -0.7288689868556583), (77295, -0.5041841733655121), (77591, -0.8091547798786747), (77604, -0.8134892168199599), (77620, -0.9146591207600439), (77842, -0.08574929257124962), (77883, 0.0), (78210, -0.5144957554275221), (78265, -0.5144957554275271), (78759, 0.5144957554275176), (79026, 0.3787898058437282), (79151, 0.4045709655776432), (79213, -0.6416889479197486), (79329, -0.14002800840279356), (79382, -0.19174124721184244), (79482, -0.5717718748968619), (79505, 0.49009802940980446), (79507, 0.3189808891315585), (79655, 0.36083356389357313), (79691, -0.7717436331412886), (79711, 0.9081082718950182), (80009, 0.15655607277128725), (80081, 0), (80134, 0.17647058823529216), (80212, 0.5717718748968619), (80724, -0.9081082718950182), (80865, -0.6176470588235267), (80962, -0.21004201260421027), (81196, -0.23543547789870561), (81343, 0.1286239388568866), (81531, 0.21004201260421027), (81777, -0.4117647058823539), (81915, -0.4705882352941152), (82101, -0.8134892168199599), (82108, -0.705882352941177), (82194, -0.5601120336112141), (82362, 0.7246187439002456), (82372, -0.08574929257124962), (82491, 0.437237316097607), (82566, -0.02941176470588063), (82594, 0.3034330424545012), (82737, -0.045834924851407825), (82848, 0.14002800840279947), (82908, -0.26906911759852886), (82992, -0.7669649888473697), (83005, -0.5573704017131591), (83226, -0.14002800840279356), (83302, -0.5601120336112141), (83361, -0.5144957554275176), (83396, 0.11354659116073344), (83433, -0.7735737130957634), (83469, 0.5041841733655121), (83999, 0.34299717028502286), (84050, -0.46966821831386174), (84236, -0.06726727939962744), (84571, -0.5041841733655121), (84689, 0.34299717028501986), (84719, 0.15655607277128725), (84854, 0.2262848189276261), (84934, -0.17647058823529216), (85262, 0.14002800840280288), (85286, 0.08574929257124962), (85334, -0.1286239388568866), (85416, 0.46966821831386174), (85449, -0.5588235294117655), (85491, -0.6827243455226313), (85502, -0.5144957554275176), (85603, 0.31506301890630356), (85715, 0.14002800840279356), (85764, 0.21004201260421027), (86120, 0.7717436331412886), (86294, -0.21004201260421027), (86511, -0.045834924851407825), (86594, 0.34299717028501986), (86722, -0.7080104323938458), (87166, 0), (87188, -0.5588235294117655), (87476, -0.54232614454664), (87477, -0.10090091909945072), (87618, 0.4900980294097974), (87622, -0.3715802678087724), (87628, 0.9101820546182179), (87755, 0.10341753799900515), (87796, -0.14002800840279356), (87861, -0.9101820546182179), (87947, -0.49009802940980446), (88086, -0.8134892168199599), (88114, 0.38348249442368487), (88208, 0.23543547789870561), (88508, -0.6827243455226313), (88576, -0.4117647058823539), (88974, -0.5573704017131591), (89502, -0.3429971702850144), (89523, -0.27116307227332), (89551, -0.4900980294097974), (89607, -0.73994007339594), (89662, -0.21004201260421027), (89690, 0.27116307227332), (89739, 0.21004201260421027), (89813, -0.3429971702850144), (90112, 0.437237316097607), (90179, 0.21004201260420252), (90597, -0.045834924851407825), (90600, 0.437237316097607), (90841, -0.4900980294097974), (90965, 0.6416889479197486), (90987, 0.34299717028502286), (91060, -0.14002800840279356), (91185, -0.21004201260421027), (91210, 0.8401680504168012), (91585, -0.7717436331412953), (91745, -0.5144957554275176), (92003, -0.3429971702850144), (92179, -0.18333969940564435), (92412, 0.27116307227332), (92513, -0.40674460840997995), (92701, -0.14002800840279356), (92964, -0.19293590828532342), (92968, 0.34299717028501986), (92980, 0.49009802940980446), (93028, 0.14002800840279356), (93250, -0.9117647058823497), (93301, 0.43482827673933594), (93410, -0.7775159172581777), (93655, 0.5144957554275176), (93733, -0.19174124721184244), (93855, 0.9587062360592122), (94117, -0.8134892168199599), (94232, 0.0), (94252, 0.14794534429106385), (94261, 0.34299717028502286), (94395, -0.46966821831386174), (94450, -0.19174124721184244), (94899, 0), (95167, -0.27116307227332), (95281, 0.8401680504168012), (95396, -0.73994007339594), (95426, 0.08574929257124887), (95472, 0.7276068751089982), (95647, -0.045834924851407936), (95672, -0.7288689868556583), (95709, 0.1400280084028027), (96009, -0.5041841733655121), (96029, -0.21004201260419905), (96196, -0.5601120336112141), (96314, -0.4125143236626965), (96431, -0.696630546019238), (96481, -0.34299717028502286), (96566, -0.3715802678087724), (96595, 0.22597634392335983), (96652, 0.3619613829965143), (96680, -0.8479461097510925), (96789, 0), (97894, -0.7735737130957634), (97934, 0.18333969940564435), (97951, 0.15655607277128725), (97995, -0.5144957554275221), (98239, -0.5144957554275221), (98265, -0.5601120336112141), (98268, 0.0), (98283, -0.7288689868556583), (98380, 0.5601120336112141), (98394, -0.9432422182837945), (98466, -0.20228869496967225), (98538, -0.21004201260421027), (98564, -0.8529411764705885), (98624, -0.2830196550708887), (98774, -0.08574929257124887), (98796, -0.10341753799900515), (98844, -0.5144957554275221), (98845, -0.8708635721768009), (98969, -0.5144957554275176), (99053, -0.5041841733655121), (99063, -0.49123330549526895), (99081, -0.9625334218796164), (99209, -0.23543547789870561), (99213, -0.8708635721768009), (99364, -0.14002800840279356), (99660, -0.21004201260421027), (99690, 0.23543547789871005), (99742, -0.7827803638564362), (99807, 0.0), (100064, 0.40879371260483005), (100101, -0.2647058823529424), (100379, 0.0), (100634, -0.045834924851407825), (100720, 0.7669649888473697), (100951, 0.045834924851407825), (101060, -0.03500700210069819), (101209, -0.7288689868556583), (101290, 0.7288689868556583), (101468, -0.5144957554275176), (101572, -0.5041841733655121), (101643, 0.057166195047499695), (101871, -0.7333587976225643), (101954, -0.4900980294097974), (102085, 0.18333969940564435), (102139, -0.5129731248159886), (102250, -0.5717718748968619), (102324, -0.7647058823529382), (102354, -0.8344408667498892), (102360, 0.7717436331412886), (102473, -0.1400280084028027), (102554, 0.5144957554275176), (102575, 0.045834924851407825), (102775, -0.27116307227332), (102828, -0.2647058823529424), (102839, 0), (103076, 0.27116307227332), (103106, -0.02143732314281236), (103218, 0.9701425001453311), (103381, -0.04997224534895958), (103504, -0.34299717028502286), (103606, -0.5601120336112141), (103750, -0.5144957554275176), (103802, 0.34299717028501986), (103819, 0.045834924851407825), (103843, 0.34299717028501603), (103989, 0.8708635721768007), (104120, -0.7333587976225643), (104316, -0.7717436331412886), (104336, -0.4900980294097974), (104665, -0.045834924851407825), (104701, -0.73994007339594), (104736, -0.5041841733655121), (105528, -0.7717436331412953), (105723, 0.28317605697742737), (105730, -0.771743633141288), (105863, -0.06726727939962744), (105949, 0.9101820546182179), (105994, 0.0176887284419296), (106065, 0.7045023274707927), (106147, -0.03934447376822943), (106236, -0.4036036763977838), (106395, -0.17647058823529216), (106640, -0.10090091909945072), (106770, -0.27116307227332), (106800, -0.5144957554275221), (106828, -0.4900980294097974), (106855, -0.27500954910846), (106903, 0.27116307227332), (107138, 0.9587062360592122), (107222, 0.24041118447297483), (107525, 0.9101820546182026), (107594, -0.18333969940564435), (107773, -0.5144957554275176), (107840, 0.8708635721768009), (108044, 0.6416889479197486), (108145, -0.8401680504168012), (108417, 0.0), (108616, -0.2975595178559499), (108647, -0.6827243455226313), (108651, -0.26906911759852886), (108652, 0.7717436331412953), (108737, 0.8866206949335702), (108800, -0.5601120336112141), (109031, 0.1286239388568866), (109058, -0.626224291085149), (109153, -0.7717436331412886), (109396, -0.23543547789870561), (109427, -0.19174124721184244), (109694, 0.49009802940980446), (109710, 0.21004201260419905), (109711, 0.18333969940564435), (110190, -0.5144957554275271), (110199, 0.5041841733655121), (110247, 0.5144957554275221), (110347, -0.4900980294097974), (110804, -0.455149563681759), (110808, -0.5144957554275221), (110889, 0.045834924851407825), (110900, -0.34299717028502286), (110935, 0.14002800840279356), (110974, -0.1400280084028027), (111012, 0.7174300539794386), (111121, -0.3143838566185041), (111291, -0.6054055145966852), (111326, -0.8344408667498855), (111630, -0.18333969940564435), (111750, 0.34299717028501986), (111762, -0.24253562503633277), (111782, -0.5144957554275176), (111798, -0.8134892168199599), (111804, -0.49009802940980446), (111967, 0.17647058823529216), (111991, -0.23543547789870561), (112127, -0.21004201260421027), (112399, 0.3619613829965143), (112458, -0.5144957554275298), (112634, -0.4900980294097974), (112641, 0), (112679, -0.3429971702850144), (112768, -0.8708635721768009), (112821, -0.27116307227332), (112843, 0.54232614454664), (112848, 0.08574929257125553)])"
          },
          "metadata": {}
        }
      ]
    },
    {
      "cell_type": "code",
      "metadata": {
        "execution": {
          "iopub.status.busy": "2021-09-07T01:50:44.592287Z",
          "iopub.execute_input": "2021-09-07T01:50:44.592677Z",
          "iopub.status.idle": "2021-09-07T01:50:44.613100Z",
          "shell.execute_reply.started": "2021-09-07T01:50:44.592628Z",
          "shell.execute_reply": "2021-09-07T01:50:44.611823Z"
        },
        "trusted": true,
        "id": "S0ICkpDT_JIb",
        "outputId": "56144abf-50dd-4e8f-8197-5ee8a604bed1"
      },
      "source": [
        "pearsonDF = pd.DataFrame.from_dict(pearsonCorrelationDict, orient='index')\n",
        "pearsonDF.columns = ['similarityIndex']\n",
        "pearsonDF['user_id'] = pearsonDF.index\n",
        "pearsonDF.index = range(len(pearsonDF)) # reset index\n",
        "pearsonDF.head(20)"
      ],
      "execution_count": null,
      "outputs": [
        {
          "execution_count": 112,
          "output_type": "execute_result",
          "data": {
            "text/plain": "    similarityIndex  user_id\n0          0.000000      110\n1          0.210042      134\n2         -0.102490      172\n3         -0.045835      243\n4         -0.733359      248\n5          0.542326      321\n6          0.542326      445\n7          0.085749      479\n8          0.282707      853\n9         -0.210042     1008\n10         0.000000     1021\n11         0.358870     1221\n12        -0.870864     1396\n13        -0.085749     1561\n14         0.300123     1817\n15         0.057166     2237\n16         0.100901     2355\n17         0.332106     2382\n18        -0.140028     2388\n19         0.156556     2425",
            "text/html": "<div>\n<style scoped>\n    .dataframe tbody tr th:only-of-type {\n        vertical-align: middle;\n    }\n\n    .dataframe tbody tr th {\n        vertical-align: top;\n    }\n\n    .dataframe thead th {\n        text-align: right;\n    }\n</style>\n<table border=\"1\" class=\"dataframe\">\n  <thead>\n    <tr style=\"text-align: right;\">\n      <th></th>\n      <th>similarityIndex</th>\n      <th>user_id</th>\n    </tr>\n  </thead>\n  <tbody>\n    <tr>\n      <th>0</th>\n      <td>0.000000</td>\n      <td>110</td>\n    </tr>\n    <tr>\n      <th>1</th>\n      <td>0.210042</td>\n      <td>134</td>\n    </tr>\n    <tr>\n      <th>2</th>\n      <td>-0.102490</td>\n      <td>172</td>\n    </tr>\n    <tr>\n      <th>3</th>\n      <td>-0.045835</td>\n      <td>243</td>\n    </tr>\n    <tr>\n      <th>4</th>\n      <td>-0.733359</td>\n      <td>248</td>\n    </tr>\n    <tr>\n      <th>5</th>\n      <td>0.542326</td>\n      <td>321</td>\n    </tr>\n    <tr>\n      <th>6</th>\n      <td>0.542326</td>\n      <td>445</td>\n    </tr>\n    <tr>\n      <th>7</th>\n      <td>0.085749</td>\n      <td>479</td>\n    </tr>\n    <tr>\n      <th>8</th>\n      <td>0.282707</td>\n      <td>853</td>\n    </tr>\n    <tr>\n      <th>9</th>\n      <td>-0.210042</td>\n      <td>1008</td>\n    </tr>\n    <tr>\n      <th>10</th>\n      <td>0.000000</td>\n      <td>1021</td>\n    </tr>\n    <tr>\n      <th>11</th>\n      <td>0.358870</td>\n      <td>1221</td>\n    </tr>\n    <tr>\n      <th>12</th>\n      <td>-0.870864</td>\n      <td>1396</td>\n    </tr>\n    <tr>\n      <th>13</th>\n      <td>-0.085749</td>\n      <td>1561</td>\n    </tr>\n    <tr>\n      <th>14</th>\n      <td>0.300123</td>\n      <td>1817</td>\n    </tr>\n    <tr>\n      <th>15</th>\n      <td>0.057166</td>\n      <td>2237</td>\n    </tr>\n    <tr>\n      <th>16</th>\n      <td>0.100901</td>\n      <td>2355</td>\n    </tr>\n    <tr>\n      <th>17</th>\n      <td>0.332106</td>\n      <td>2382</td>\n    </tr>\n    <tr>\n      <th>18</th>\n      <td>-0.140028</td>\n      <td>2388</td>\n    </tr>\n    <tr>\n      <th>19</th>\n      <td>0.156556</td>\n      <td>2425</td>\n    </tr>\n  </tbody>\n</table>\n</div>"
          },
          "metadata": {}
        }
      ]
    },
    {
      "cell_type": "markdown",
      "metadata": {
        "id": "fO-z2C3M_JIb"
      },
      "source": [
        "## The top x similar users to input user"
      ]
    },
    {
      "cell_type": "code",
      "metadata": {
        "execution": {
          "iopub.status.busy": "2021-09-07T01:50:44.614525Z",
          "iopub.execute_input": "2021-09-07T01:50:44.614991Z",
          "iopub.status.idle": "2021-09-07T01:50:44.632882Z",
          "shell.execute_reply.started": "2021-09-07T01:50:44.614952Z",
          "shell.execute_reply": "2021-09-07T01:50:44.631888Z"
        },
        "trusted": true,
        "id": "TmpYMrxl_JIb",
        "outputId": "6e459a92-e34d-41cc-b41f-1c31ff464b8e"
      },
      "source": [
        "topUsers=pearsonDF.sort_values(by='similarityIndex', ascending=False)[0:100]\n",
        "topUsers.head(20)"
      ],
      "execution_count": null,
      "outputs": [
        {
          "execution_count": 113,
          "output_type": "execute_result",
          "data": {
            "text/plain": "     similarityIndex  user_id\n914         0.970143   103218\n609         0.962533    66706\n945         0.958706   107138\n830         0.958706    93855\n697         0.943242    76555\n232         0.941742    23521\n933         0.910182   105949\n433         0.910182    45059\n785         0.910182    87628\n947         0.910182   107525\n724         0.908108    79711\n958         0.886621   108737\n176         0.870864    17775\n610         0.870864    67086\n196         0.870864    19703\n950         0.870864   107840\n922         0.870864   103989\n408         0.852941    42512\n636         0.852518    69377\n517         0.840168    54818",
            "text/html": "<div>\n<style scoped>\n    .dataframe tbody tr th:only-of-type {\n        vertical-align: middle;\n    }\n\n    .dataframe tbody tr th {\n        vertical-align: top;\n    }\n\n    .dataframe thead th {\n        text-align: right;\n    }\n</style>\n<table border=\"1\" class=\"dataframe\">\n  <thead>\n    <tr style=\"text-align: right;\">\n      <th></th>\n      <th>similarityIndex</th>\n      <th>user_id</th>\n    </tr>\n  </thead>\n  <tbody>\n    <tr>\n      <th>914</th>\n      <td>0.970143</td>\n      <td>103218</td>\n    </tr>\n    <tr>\n      <th>609</th>\n      <td>0.962533</td>\n      <td>66706</td>\n    </tr>\n    <tr>\n      <th>945</th>\n      <td>0.958706</td>\n      <td>107138</td>\n    </tr>\n    <tr>\n      <th>830</th>\n      <td>0.958706</td>\n      <td>93855</td>\n    </tr>\n    <tr>\n      <th>697</th>\n      <td>0.943242</td>\n      <td>76555</td>\n    </tr>\n    <tr>\n      <th>232</th>\n      <td>0.941742</td>\n      <td>23521</td>\n    </tr>\n    <tr>\n      <th>933</th>\n      <td>0.910182</td>\n      <td>105949</td>\n    </tr>\n    <tr>\n      <th>433</th>\n      <td>0.910182</td>\n      <td>45059</td>\n    </tr>\n    <tr>\n      <th>785</th>\n      <td>0.910182</td>\n      <td>87628</td>\n    </tr>\n    <tr>\n      <th>947</th>\n      <td>0.910182</td>\n      <td>107525</td>\n    </tr>\n    <tr>\n      <th>724</th>\n      <td>0.908108</td>\n      <td>79711</td>\n    </tr>\n    <tr>\n      <th>958</th>\n      <td>0.886621</td>\n      <td>108737</td>\n    </tr>\n    <tr>\n      <th>176</th>\n      <td>0.870864</td>\n      <td>17775</td>\n    </tr>\n    <tr>\n      <th>610</th>\n      <td>0.870864</td>\n      <td>67086</td>\n    </tr>\n    <tr>\n      <th>196</th>\n      <td>0.870864</td>\n      <td>19703</td>\n    </tr>\n    <tr>\n      <th>950</th>\n      <td>0.870864</td>\n      <td>107840</td>\n    </tr>\n    <tr>\n      <th>922</th>\n      <td>0.870864</td>\n      <td>103989</td>\n    </tr>\n    <tr>\n      <th>408</th>\n      <td>0.852941</td>\n      <td>42512</td>\n    </tr>\n    <tr>\n      <th>636</th>\n      <td>0.852518</td>\n      <td>69377</td>\n    </tr>\n    <tr>\n      <th>517</th>\n      <td>0.840168</td>\n      <td>54818</td>\n    </tr>\n  </tbody>\n</table>\n</div>"
          },
          "metadata": {}
        }
      ]
    },
    {
      "cell_type": "code",
      "metadata": {
        "execution": {
          "iopub.status.busy": "2021-09-07T01:50:44.634416Z",
          "iopub.execute_input": "2021-09-07T01:50:44.634852Z",
          "iopub.status.idle": "2021-09-07T01:50:44.642401Z",
          "shell.execute_reply.started": "2021-09-07T01:50:44.634803Z",
          "shell.execute_reply": "2021-09-07T01:50:44.641295Z"
        },
        "trusted": true,
        "id": "nARhWlPd_JIb",
        "outputId": "d385d543-2ab2-4a83-82d3-693c46bd6608"
      },
      "source": [
        "topUsers.shape"
      ],
      "execution_count": null,
      "outputs": [
        {
          "execution_count": 114,
          "output_type": "execute_result",
          "data": {
            "text/plain": "(100, 2)"
          },
          "metadata": {}
        }
      ]
    },
    {
      "cell_type": "markdown",
      "metadata": {
        "id": "CyZE3Nq9_JIb"
      },
      "source": [
        "## Rating of selected users to all Anime"
      ]
    },
    {
      "cell_type": "code",
      "metadata": {
        "execution": {
          "iopub.status.busy": "2021-09-07T01:50:44.643960Z",
          "iopub.execute_input": "2021-09-07T01:50:44.644410Z",
          "iopub.status.idle": "2021-09-07T01:50:47.933115Z",
          "shell.execute_reply.started": "2021-09-07T01:50:44.644366Z",
          "shell.execute_reply": "2021-09-07T01:50:47.932013Z"
        },
        "trusted": true,
        "id": "PKzeAoo9_JIb",
        "outputId": "0793eb36-d3e5-4651-970f-181a82130feb"
      },
      "source": [
        "topUsersRating=topUsers.merge(ratingcsv, left_on='user_id', right_on='user_id', how='inner')\n",
        "topUsersRating.head()"
      ],
      "execution_count": null,
      "outputs": [
        {
          "execution_count": 115,
          "output_type": "execute_result",
          "data": {
            "text/plain": "   similarityIndex  user_id  anime_id  rating\n0         0.970143   103218        90       9\n1         0.970143   103218     17741       8\n2         0.970143   103218      9756       8\n3         0.970143   103218      1088       9\n4         0.970143   103218     31741       8",
            "text/html": "<div>\n<style scoped>\n    .dataframe tbody tr th:only-of-type {\n        vertical-align: middle;\n    }\n\n    .dataframe tbody tr th {\n        vertical-align: top;\n    }\n\n    .dataframe thead th {\n        text-align: right;\n    }\n</style>\n<table border=\"1\" class=\"dataframe\">\n  <thead>\n    <tr style=\"text-align: right;\">\n      <th></th>\n      <th>similarityIndex</th>\n      <th>user_id</th>\n      <th>anime_id</th>\n      <th>rating</th>\n    </tr>\n  </thead>\n  <tbody>\n    <tr>\n      <th>0</th>\n      <td>0.970143</td>\n      <td>103218</td>\n      <td>90</td>\n      <td>9</td>\n    </tr>\n    <tr>\n      <th>1</th>\n      <td>0.970143</td>\n      <td>103218</td>\n      <td>17741</td>\n      <td>8</td>\n    </tr>\n    <tr>\n      <th>2</th>\n      <td>0.970143</td>\n      <td>103218</td>\n      <td>9756</td>\n      <td>8</td>\n    </tr>\n    <tr>\n      <th>3</th>\n      <td>0.970143</td>\n      <td>103218</td>\n      <td>1088</td>\n      <td>9</td>\n    </tr>\n    <tr>\n      <th>4</th>\n      <td>0.970143</td>\n      <td>103218</td>\n      <td>31741</td>\n      <td>8</td>\n    </tr>\n  </tbody>\n</table>\n</div>"
          },
          "metadata": {}
        }
      ]
    },
    {
      "cell_type": "code",
      "metadata": {
        "execution": {
          "iopub.status.busy": "2021-09-07T01:50:47.934694Z",
          "iopub.execute_input": "2021-09-07T01:50:47.935097Z",
          "iopub.status.idle": "2021-09-07T01:50:47.940503Z",
          "shell.execute_reply.started": "2021-09-07T01:50:47.935052Z",
          "shell.execute_reply": "2021-09-07T01:50:47.939651Z"
        },
        "trusted": true,
        "id": "Ec_zClRw_JId",
        "outputId": "736b2651-6947-4bdd-d33d-0fa178f82433"
      },
      "source": [
        "topUsersRating.shape"
      ],
      "execution_count": null,
      "outputs": [
        {
          "execution_count": 116,
          "output_type": "execute_result",
          "data": {
            "text/plain": "(63644, 4)"
          },
          "metadata": {}
        }
      ]
    },
    {
      "cell_type": "markdown",
      "metadata": {
        "id": "t5DxeGPm_JId"
      },
      "source": [
        "Now all we need to do is simply multiply the anime rating by its weight (The similarity index), then sum up the new ratings and divide it by the sum of the weights.\n",
        "\n",
        "We can easily do this by simply multiplying two columns, then grouping up the dataframe by anime_id and then dividing two columns:\n",
        "\n",
        "It shows the idea of all similar users to candidate anime for the input user:"
      ]
    },
    {
      "cell_type": "code",
      "metadata": {
        "execution": {
          "iopub.status.busy": "2021-09-07T01:50:47.942103Z",
          "iopub.execute_input": "2021-09-07T01:50:47.942602Z",
          "iopub.status.idle": "2021-09-07T01:50:47.964816Z",
          "shell.execute_reply.started": "2021-09-07T01:50:47.942553Z",
          "shell.execute_reply": "2021-09-07T01:50:47.963775Z"
        },
        "trusted": true,
        "id": "lWBTBwQs_JId",
        "outputId": "a494fbb3-7347-4c38-dd47-d0007f9d9aaa"
      },
      "source": [
        "#Multiplies the similarity by the user's ratings\n",
        "topUsersRating['weightedRating'] = topUsersRating['similarityIndex']*topUsersRating['rating']\n",
        "topUsersRating.head()"
      ],
      "execution_count": null,
      "outputs": [
        {
          "execution_count": 117,
          "output_type": "execute_result",
          "data": {
            "text/plain": "   similarityIndex  user_id  anime_id  rating  weightedRating\n0         0.970143   103218        90       9        8.731283\n1         0.970143   103218     17741       8        7.761140\n2         0.970143   103218      9756       8        7.761140\n3         0.970143   103218      1088       9        8.731283\n4         0.970143   103218     31741       8        7.761140",
            "text/html": "<div>\n<style scoped>\n    .dataframe tbody tr th:only-of-type {\n        vertical-align: middle;\n    }\n\n    .dataframe tbody tr th {\n        vertical-align: top;\n    }\n\n    .dataframe thead th {\n        text-align: right;\n    }\n</style>\n<table border=\"1\" class=\"dataframe\">\n  <thead>\n    <tr style=\"text-align: right;\">\n      <th></th>\n      <th>similarityIndex</th>\n      <th>user_id</th>\n      <th>anime_id</th>\n      <th>rating</th>\n      <th>weightedRating</th>\n    </tr>\n  </thead>\n  <tbody>\n    <tr>\n      <th>0</th>\n      <td>0.970143</td>\n      <td>103218</td>\n      <td>90</td>\n      <td>9</td>\n      <td>8.731283</td>\n    </tr>\n    <tr>\n      <th>1</th>\n      <td>0.970143</td>\n      <td>103218</td>\n      <td>17741</td>\n      <td>8</td>\n      <td>7.761140</td>\n    </tr>\n    <tr>\n      <th>2</th>\n      <td>0.970143</td>\n      <td>103218</td>\n      <td>9756</td>\n      <td>8</td>\n      <td>7.761140</td>\n    </tr>\n    <tr>\n      <th>3</th>\n      <td>0.970143</td>\n      <td>103218</td>\n      <td>1088</td>\n      <td>9</td>\n      <td>8.731283</td>\n    </tr>\n    <tr>\n      <th>4</th>\n      <td>0.970143</td>\n      <td>103218</td>\n      <td>31741</td>\n      <td>8</td>\n      <td>7.761140</td>\n    </tr>\n  </tbody>\n</table>\n</div>"
          },
          "metadata": {}
        }
      ]
    },
    {
      "cell_type": "code",
      "metadata": {
        "execution": {
          "iopub.status.busy": "2021-09-07T01:50:47.966034Z",
          "iopub.execute_input": "2021-09-07T01:50:47.966340Z",
          "iopub.status.idle": "2021-09-07T01:50:47.987872Z",
          "shell.execute_reply.started": "2021-09-07T01:50:47.966308Z",
          "shell.execute_reply": "2021-09-07T01:50:47.986796Z"
        },
        "trusted": true,
        "id": "vznuMqmx_JId",
        "outputId": "9ca44ac7-34c3-45a9-b6b4-25b666fd244f"
      },
      "source": [
        "#Applies a sum to the topUsers after grouping it up by userId\n",
        "tempTopUsersRating = topUsersRating.groupby('anime_id').sum()[['similarityIndex','weightedRating']]\n",
        "tempTopUsersRating.columns = ['sum_similarityIndex','sum_weightedRating']\n",
        "tempTopUsersRating.head()"
      ],
      "execution_count": null,
      "outputs": [
        {
          "execution_count": 118,
          "output_type": "execute_result",
          "data": {
            "text/plain": "          sum_similarityIndex  sum_weightedRating\nanime_id                                         \n1                   36.901873          318.532926\n5                   14.150311          118.907546\n6                   24.373467          204.933822\n7                    5.607358           37.255563\n8                    2.425424           17.432489",
            "text/html": "<div>\n<style scoped>\n    .dataframe tbody tr th:only-of-type {\n        vertical-align: middle;\n    }\n\n    .dataframe tbody tr th {\n        vertical-align: top;\n    }\n\n    .dataframe thead th {\n        text-align: right;\n    }\n</style>\n<table border=\"1\" class=\"dataframe\">\n  <thead>\n    <tr style=\"text-align: right;\">\n      <th></th>\n      <th>sum_similarityIndex</th>\n      <th>sum_weightedRating</th>\n    </tr>\n    <tr>\n      <th>anime_id</th>\n      <th></th>\n      <th></th>\n    </tr>\n  </thead>\n  <tbody>\n    <tr>\n      <th>1</th>\n      <td>36.901873</td>\n      <td>318.532926</td>\n    </tr>\n    <tr>\n      <th>5</th>\n      <td>14.150311</td>\n      <td>118.907546</td>\n    </tr>\n    <tr>\n      <th>6</th>\n      <td>24.373467</td>\n      <td>204.933822</td>\n    </tr>\n    <tr>\n      <th>7</th>\n      <td>5.607358</td>\n      <td>37.255563</td>\n    </tr>\n    <tr>\n      <th>8</th>\n      <td>2.425424</td>\n      <td>17.432489</td>\n    </tr>\n  </tbody>\n</table>\n</div>"
          },
          "metadata": {}
        }
      ]
    },
    {
      "cell_type": "code",
      "metadata": {
        "execution": {
          "iopub.status.busy": "2021-09-07T01:50:47.989010Z",
          "iopub.execute_input": "2021-09-07T01:50:47.989324Z",
          "iopub.status.idle": "2021-09-07T01:50:48.001866Z",
          "shell.execute_reply.started": "2021-09-07T01:50:47.989293Z",
          "shell.execute_reply": "2021-09-07T01:50:48.000591Z"
        },
        "trusted": true,
        "id": "1ukTaPH0_JIe",
        "outputId": "f790d6ca-e1fd-4be3-ca0c-36ebf7c05651"
      },
      "source": [
        "#Creates an empty dataframe\n",
        "recommendation_df = pd.DataFrame()\n",
        "#Now we take the weighted average\n",
        "recommendation_df['weighted average recommendation score'] = tempTopUsersRating['sum_weightedRating']/tempTopUsersRating['sum_similarityIndex']\n",
        "#recommendation_df['anime_id'] = tempTopUsersRating.index\n",
        "recommendation_df.head()"
      ],
      "execution_count": null,
      "outputs": [
        {
          "execution_count": 119,
          "output_type": "execute_result",
          "data": {
            "text/plain": "          weighted average recommendation score\nanime_id                                       \n1                                      8.631890\n5                                      8.403175\n6                                      8.408070\n7                                      6.644050\n8                                      7.187399",
            "text/html": "<div>\n<style scoped>\n    .dataframe tbody tr th:only-of-type {\n        vertical-align: middle;\n    }\n\n    .dataframe tbody tr th {\n        vertical-align: top;\n    }\n\n    .dataframe thead th {\n        text-align: right;\n    }\n</style>\n<table border=\"1\" class=\"dataframe\">\n  <thead>\n    <tr style=\"text-align: right;\">\n      <th></th>\n      <th>weighted average recommendation score</th>\n    </tr>\n    <tr>\n      <th>anime_id</th>\n      <th></th>\n    </tr>\n  </thead>\n  <tbody>\n    <tr>\n      <th>1</th>\n      <td>8.631890</td>\n    </tr>\n    <tr>\n      <th>5</th>\n      <td>8.403175</td>\n    </tr>\n    <tr>\n      <th>6</th>\n      <td>8.408070</td>\n    </tr>\n    <tr>\n      <th>7</th>\n      <td>6.644050</td>\n    </tr>\n    <tr>\n      <th>8</th>\n      <td>7.187399</td>\n    </tr>\n  </tbody>\n</table>\n</div>"
          },
          "metadata": {}
        }
      ]
    },
    {
      "cell_type": "code",
      "metadata": {
        "execution": {
          "iopub.status.busy": "2021-09-07T01:50:48.003352Z",
          "iopub.execute_input": "2021-09-07T01:50:48.003667Z",
          "iopub.status.idle": "2021-09-07T01:50:48.020478Z",
          "shell.execute_reply.started": "2021-09-07T01:50:48.003624Z",
          "shell.execute_reply": "2021-09-07T01:50:48.019556Z"
        },
        "trusted": true,
        "id": "7Z1gVfUw_JIe",
        "outputId": "6e317bc1-5449-444e-9538-4165902cc600"
      },
      "source": [
        "recommendation_df = recommendation_df.sort_values(by='weighted average recommendation score', ascending=False)\n",
        "recommendation_df.head(10)"
      ],
      "execution_count": null,
      "outputs": [
        {
          "execution_count": 120,
          "output_type": "execute_result",
          "data": {
            "text/plain": "          weighted average recommendation score\nanime_id                                       \n21571                                      10.0\n2619                                       10.0\n10302                                      10.0\n1137                                       10.0\n16678                                      10.0\n7654                                       10.0\n30547                                      10.0\n30818                                      10.0\n24457                                      10.0\n30925                                      10.0",
            "text/html": "<div>\n<style scoped>\n    .dataframe tbody tr th:only-of-type {\n        vertical-align: middle;\n    }\n\n    .dataframe tbody tr th {\n        vertical-align: top;\n    }\n\n    .dataframe thead th {\n        text-align: right;\n    }\n</style>\n<table border=\"1\" class=\"dataframe\">\n  <thead>\n    <tr style=\"text-align: right;\">\n      <th></th>\n      <th>weighted average recommendation score</th>\n    </tr>\n    <tr>\n      <th>anime_id</th>\n      <th></th>\n    </tr>\n  </thead>\n  <tbody>\n    <tr>\n      <th>21571</th>\n      <td>10.0</td>\n    </tr>\n    <tr>\n      <th>2619</th>\n      <td>10.0</td>\n    </tr>\n    <tr>\n      <th>10302</th>\n      <td>10.0</td>\n    </tr>\n    <tr>\n      <th>1137</th>\n      <td>10.0</td>\n    </tr>\n    <tr>\n      <th>16678</th>\n      <td>10.0</td>\n    </tr>\n    <tr>\n      <th>7654</th>\n      <td>10.0</td>\n    </tr>\n    <tr>\n      <th>30547</th>\n      <td>10.0</td>\n    </tr>\n    <tr>\n      <th>30818</th>\n      <td>10.0</td>\n    </tr>\n    <tr>\n      <th>24457</th>\n      <td>10.0</td>\n    </tr>\n    <tr>\n      <th>30925</th>\n      <td>10.0</td>\n    </tr>\n  </tbody>\n</table>\n</div>"
          },
          "metadata": {}
        }
      ]
    },
    {
      "cell_type": "markdown",
      "metadata": {
        "id": "asu_ZtPm_JIe"
      },
      "source": [
        "# Result"
      ]
    },
    {
      "cell_type": "code",
      "metadata": {
        "execution": {
          "iopub.status.busy": "2021-09-07T01:50:48.021959Z",
          "iopub.execute_input": "2021-09-07T01:50:48.022250Z",
          "iopub.status.idle": "2021-09-07T01:50:48.045907Z",
          "shell.execute_reply.started": "2021-09-07T01:50:48.022222Z",
          "shell.execute_reply": "2021-09-07T01:50:48.044933Z"
        },
        "trusted": true,
        "id": "ogekxjgQ_JIe",
        "outputId": "3c1bde4b-37d4-4006-be00-8ccf9ed1ada7"
      },
      "source": [
        "anime_recom =recommendation_df.merge(anime_movie_fillter, left_on='anime_id', right_on='anime_id', how='inner')\n",
        "anime_recom.head(20)"
      ],
      "execution_count": null,
      "outputs": [
        {
          "execution_count": 121,
          "output_type": "execute_result",
          "data": {
            "text/plain": "    anime_id  weighted average recommendation score  \\\n0       1137                              10.000000   \n1       1021                              10.000000   \n2       5114                               9.191112   \n3      11061                               9.165873   \n4       3297                               9.068382   \n5        263                               9.037521   \n6       2921                               9.032837   \n7      35180                               9.018585   \n8      38524                               9.014861   \n9        971                               9.000000   \n10      6774                               9.000000   \n11     40748                               9.000000   \n12      2012                               9.000000   \n13      9996                               9.000000   \n14      5420                               8.973212   \n15      9253                               8.970088   \n16     15417                               8.960692   \n17      2904                               8.952113   \n18      7655                               8.918439   \n19        19                               8.894860   \n\n                                  Name    Premiered  Popularity  year  \n0                            Mushrambo  Winter 2000        4374  2000  \n1                        Kaikan Phrase  Spring 1999        4678  1999  \n2     Fullmetal Alchemist: Brotherhood  Spring 2009           3  2009  \n3               Hunter x Hunter (2011)    Fall 2011          12  2011  \n4                 Aria the Origination  Winter 2008        1415  2008  \n5                       Hajime no Ippo    Fall 2000         345  2000  \n6                      Ashita no Joe 2    Fall 1980        2966  1980  \n7           3-gatsu no Lion 2nd Season    Fall 2017         545  2017  \n8   Shingeki no Kyojin Season 3 Part 2  Spring 2019          63  2019  \n9             Astro Boy: Tetsuwan Atom  Spring 2003        3912  2003  \n10                     Kuuchuu Buranko    Fall 2009        1766  2009  \n11                 Jujutsu Kaisen (TV)    Fall 2020         130  2020  \n12                  Jigoku Sensei Nube  Spring 1996        4134  1996  \n13                         Hyouge Mono  Spring 2011        3508  2011  \n14                Kemono no Souja Erin  Winter 2009        1829  2009  \n15                         Steins;Gate  Spring 2011           9  2011  \n16                 Gintama': Enchousen    Fall 2012         660  2012  \n17  Code Geass: Hangyaku no Lelouch R2  Spring 2008          36  2008  \n18                            Major S6  Spring 2010        2246  2010  \n19                             Monster  Spring 2004         169  2004  ",
            "text/html": "<div>\n<style scoped>\n    .dataframe tbody tr th:only-of-type {\n        vertical-align: middle;\n    }\n\n    .dataframe tbody tr th {\n        vertical-align: top;\n    }\n\n    .dataframe thead th {\n        text-align: right;\n    }\n</style>\n<table border=\"1\" class=\"dataframe\">\n  <thead>\n    <tr style=\"text-align: right;\">\n      <th></th>\n      <th>anime_id</th>\n      <th>weighted average recommendation score</th>\n      <th>Name</th>\n      <th>Premiered</th>\n      <th>Popularity</th>\n      <th>year</th>\n    </tr>\n  </thead>\n  <tbody>\n    <tr>\n      <th>0</th>\n      <td>1137</td>\n      <td>10.000000</td>\n      <td>Mushrambo</td>\n      <td>Winter 2000</td>\n      <td>4374</td>\n      <td>2000</td>\n    </tr>\n    <tr>\n      <th>1</th>\n      <td>1021</td>\n      <td>10.000000</td>\n      <td>Kaikan Phrase</td>\n      <td>Spring 1999</td>\n      <td>4678</td>\n      <td>1999</td>\n    </tr>\n    <tr>\n      <th>2</th>\n      <td>5114</td>\n      <td>9.191112</td>\n      <td>Fullmetal Alchemist: Brotherhood</td>\n      <td>Spring 2009</td>\n      <td>3</td>\n      <td>2009</td>\n    </tr>\n    <tr>\n      <th>3</th>\n      <td>11061</td>\n      <td>9.165873</td>\n      <td>Hunter x Hunter (2011)</td>\n      <td>Fall 2011</td>\n      <td>12</td>\n      <td>2011</td>\n    </tr>\n    <tr>\n      <th>4</th>\n      <td>3297</td>\n      <td>9.068382</td>\n      <td>Aria the Origination</td>\n      <td>Winter 2008</td>\n      <td>1415</td>\n      <td>2008</td>\n    </tr>\n    <tr>\n      <th>5</th>\n      <td>263</td>\n      <td>9.037521</td>\n      <td>Hajime no Ippo</td>\n      <td>Fall 2000</td>\n      <td>345</td>\n      <td>2000</td>\n    </tr>\n    <tr>\n      <th>6</th>\n      <td>2921</td>\n      <td>9.032837</td>\n      <td>Ashita no Joe 2</td>\n      <td>Fall 1980</td>\n      <td>2966</td>\n      <td>1980</td>\n    </tr>\n    <tr>\n      <th>7</th>\n      <td>35180</td>\n      <td>9.018585</td>\n      <td>3-gatsu no Lion 2nd Season</td>\n      <td>Fall 2017</td>\n      <td>545</td>\n      <td>2017</td>\n    </tr>\n    <tr>\n      <th>8</th>\n      <td>38524</td>\n      <td>9.014861</td>\n      <td>Shingeki no Kyojin Season 3 Part 2</td>\n      <td>Spring 2019</td>\n      <td>63</td>\n      <td>2019</td>\n    </tr>\n    <tr>\n      <th>9</th>\n      <td>971</td>\n      <td>9.000000</td>\n      <td>Astro Boy: Tetsuwan Atom</td>\n      <td>Spring 2003</td>\n      <td>3912</td>\n      <td>2003</td>\n    </tr>\n    <tr>\n      <th>10</th>\n      <td>6774</td>\n      <td>9.000000</td>\n      <td>Kuuchuu Buranko</td>\n      <td>Fall 2009</td>\n      <td>1766</td>\n      <td>2009</td>\n    </tr>\n    <tr>\n      <th>11</th>\n      <td>40748</td>\n      <td>9.000000</td>\n      <td>Jujutsu Kaisen (TV)</td>\n      <td>Fall 2020</td>\n      <td>130</td>\n      <td>2020</td>\n    </tr>\n    <tr>\n      <th>12</th>\n      <td>2012</td>\n      <td>9.000000</td>\n      <td>Jigoku Sensei Nube</td>\n      <td>Spring 1996</td>\n      <td>4134</td>\n      <td>1996</td>\n    </tr>\n    <tr>\n      <th>13</th>\n      <td>9996</td>\n      <td>9.000000</td>\n      <td>Hyouge Mono</td>\n      <td>Spring 2011</td>\n      <td>3508</td>\n      <td>2011</td>\n    </tr>\n    <tr>\n      <th>14</th>\n      <td>5420</td>\n      <td>8.973212</td>\n      <td>Kemono no Souja Erin</td>\n      <td>Winter 2009</td>\n      <td>1829</td>\n      <td>2009</td>\n    </tr>\n    <tr>\n      <th>15</th>\n      <td>9253</td>\n      <td>8.970088</td>\n      <td>Steins;Gate</td>\n      <td>Spring 2011</td>\n      <td>9</td>\n      <td>2011</td>\n    </tr>\n    <tr>\n      <th>16</th>\n      <td>15417</td>\n      <td>8.960692</td>\n      <td>Gintama': Enchousen</td>\n      <td>Fall 2012</td>\n      <td>660</td>\n      <td>2012</td>\n    </tr>\n    <tr>\n      <th>17</th>\n      <td>2904</td>\n      <td>8.952113</td>\n      <td>Code Geass: Hangyaku no Lelouch R2</td>\n      <td>Spring 2008</td>\n      <td>36</td>\n      <td>2008</td>\n    </tr>\n    <tr>\n      <th>18</th>\n      <td>7655</td>\n      <td>8.918439</td>\n      <td>Major S6</td>\n      <td>Spring 2010</td>\n      <td>2246</td>\n      <td>2010</td>\n    </tr>\n    <tr>\n      <th>19</th>\n      <td>19</td>\n      <td>8.894860</td>\n      <td>Monster</td>\n      <td>Spring 2004</td>\n      <td>169</td>\n      <td>2004</td>\n    </tr>\n  </tbody>\n</table>\n</div>"
          },
          "metadata": {}
        }
      ]
    },
    {
      "cell_type": "markdown",
      "metadata": {
        "id": "kGZ6VZBp_JIe"
      },
      "source": [
        "## Result year after 2010"
      ]
    },
    {
      "cell_type": "code",
      "metadata": {
        "execution": {
          "iopub.status.busy": "2021-09-07T01:50:48.046890Z",
          "iopub.execute_input": "2021-09-07T01:50:48.047159Z",
          "iopub.status.idle": "2021-09-07T01:50:48.066156Z",
          "shell.execute_reply.started": "2021-09-07T01:50:48.047124Z",
          "shell.execute_reply": "2021-09-07T01:50:48.065246Z"
        },
        "trusted": true,
        "id": "yLJDVSKe_JIe",
        "outputId": "a0eb21a9-3931-4b41-9645-9eb66f147d1b"
      },
      "source": [
        "anime_recom[\"year\"] = pd.to_numeric(anime_recom['year'])\n",
        "top10 = anime_recom[anime_recom[\"year\"] >= 2010]\n",
        "top10.head(10)"
      ],
      "execution_count": null,
      "outputs": [
        {
          "execution_count": 122,
          "output_type": "execute_result",
          "data": {
            "text/plain": "    anime_id  weighted average recommendation score  \\\n3      11061                               9.165873   \n7      35180                               9.018585   \n8      38524                               9.014861   \n11     40748                               9.000000   \n13      9996                               9.000000   \n15      9253                               8.970088   \n16     15417                               8.960692   \n18      7655                               8.918439   \n20     28977                               8.886768   \n22     11665                               8.884187   \n\n                                  Name    Premiered  Popularity  year  \n3               Hunter x Hunter (2011)    Fall 2011          12  2011  \n7           3-gatsu no Lion 2nd Season    Fall 2017         545  2017  \n8   Shingeki no Kyojin Season 3 Part 2  Spring 2019          63  2019  \n11                 Jujutsu Kaisen (TV)    Fall 2020         130  2020  \n13                         Hyouge Mono  Spring 2011        3508  2011  \n15                         Steins;Gate  Spring 2011           9  2011  \n16                 Gintama': Enchousen    Fall 2012         660  2012  \n18                            Major S6  Spring 2010        2246  2010  \n20                            Gintama°  Spring 2015         329  2015  \n22              Natsume Yuujinchou Shi  Winter 2012         774  2012  ",
            "text/html": "<div>\n<style scoped>\n    .dataframe tbody tr th:only-of-type {\n        vertical-align: middle;\n    }\n\n    .dataframe tbody tr th {\n        vertical-align: top;\n    }\n\n    .dataframe thead th {\n        text-align: right;\n    }\n</style>\n<table border=\"1\" class=\"dataframe\">\n  <thead>\n    <tr style=\"text-align: right;\">\n      <th></th>\n      <th>anime_id</th>\n      <th>weighted average recommendation score</th>\n      <th>Name</th>\n      <th>Premiered</th>\n      <th>Popularity</th>\n      <th>year</th>\n    </tr>\n  </thead>\n  <tbody>\n    <tr>\n      <th>3</th>\n      <td>11061</td>\n      <td>9.165873</td>\n      <td>Hunter x Hunter (2011)</td>\n      <td>Fall 2011</td>\n      <td>12</td>\n      <td>2011</td>\n    </tr>\n    <tr>\n      <th>7</th>\n      <td>35180</td>\n      <td>9.018585</td>\n      <td>3-gatsu no Lion 2nd Season</td>\n      <td>Fall 2017</td>\n      <td>545</td>\n      <td>2017</td>\n    </tr>\n    <tr>\n      <th>8</th>\n      <td>38524</td>\n      <td>9.014861</td>\n      <td>Shingeki no Kyojin Season 3 Part 2</td>\n      <td>Spring 2019</td>\n      <td>63</td>\n      <td>2019</td>\n    </tr>\n    <tr>\n      <th>11</th>\n      <td>40748</td>\n      <td>9.000000</td>\n      <td>Jujutsu Kaisen (TV)</td>\n      <td>Fall 2020</td>\n      <td>130</td>\n      <td>2020</td>\n    </tr>\n    <tr>\n      <th>13</th>\n      <td>9996</td>\n      <td>9.000000</td>\n      <td>Hyouge Mono</td>\n      <td>Spring 2011</td>\n      <td>3508</td>\n      <td>2011</td>\n    </tr>\n    <tr>\n      <th>15</th>\n      <td>9253</td>\n      <td>8.970088</td>\n      <td>Steins;Gate</td>\n      <td>Spring 2011</td>\n      <td>9</td>\n      <td>2011</td>\n    </tr>\n    <tr>\n      <th>16</th>\n      <td>15417</td>\n      <td>8.960692</td>\n      <td>Gintama': Enchousen</td>\n      <td>Fall 2012</td>\n      <td>660</td>\n      <td>2012</td>\n    </tr>\n    <tr>\n      <th>18</th>\n      <td>7655</td>\n      <td>8.918439</td>\n      <td>Major S6</td>\n      <td>Spring 2010</td>\n      <td>2246</td>\n      <td>2010</td>\n    </tr>\n    <tr>\n      <th>20</th>\n      <td>28977</td>\n      <td>8.886768</td>\n      <td>Gintama°</td>\n      <td>Spring 2015</td>\n      <td>329</td>\n      <td>2015</td>\n    </tr>\n    <tr>\n      <th>22</th>\n      <td>11665</td>\n      <td>8.884187</td>\n      <td>Natsume Yuujinchou Shi</td>\n      <td>Winter 2012</td>\n      <td>774</td>\n      <td>2012</td>\n    </tr>\n  </tbody>\n</table>\n</div>"
          },
          "metadata": {}
        }
      ]
    },
    {
      "cell_type": "code",
      "metadata": {
        "id": "x1oUOfcA_JIe"
      },
      "source": [
        ""
      ],
      "execution_count": null,
      "outputs": []
    }
  ]
}